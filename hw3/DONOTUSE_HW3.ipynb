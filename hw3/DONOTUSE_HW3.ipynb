{
 "cells": [
  {
   "cell_type": "markdown",
   "metadata": {
    "colab_type": "text",
    "id": "UGqk3SzXsMR3"
   },
   "source": [
    "# Homework 3: Univariate Statistics"
   ]
  },
  {
   "cell_type": "code",
   "execution_count": null,
   "metadata": {},
   "outputs": [],
   "source": [
    "MY_UNIQNAME = 'yingzy'"
   ]
  },
  {
   "cell_type": "markdown",
   "metadata": {
    "colab_type": "text",
    "id": "pbqbtPreaCjs"
   },
   "source": [
    "### The total score for this assignment will be 100 points, consisting of:\n",
    "- 10 pt: Overall quality of spelling, grammar, puctuation, etc. of written sentences.\n",
    "- 10 pt: Codes are written in [PEP 8](https://www.python.org/dev/peps/pep-0008/) style.\n",
    "- 80 pt: Homework questions. "
   ]
  },
  {
   "cell_type": "markdown",
   "metadata": {
    "colab_type": "text",
    "id": "Pr9WBUQyZY4V"
   },
   "source": [
    "## Download the data from: \n",
    "\n",
    "* [https://www.kaggle.com/mylesoneill/world-university-rankings](https://www.kaggle.com/mylesoneill/world-university-rankings)\n",
    "\n",
    "There are three rankings of universities included in the dataset: Center for World University Rankings (*CWUR*), Times Higher Education World University Rankings (*Times*), and Academic Ranking of World Universities (ARWU, or *Shanghai*).\n",
    "\n",
    "Look at the column descriptions on the Kaggle page. Note that for some columns, there may be some missing values or values that may need some munging in order for your analysis to succeed. **Be sure to look at the values in the columns you work with using `describe()`**—if data are missing or nonsensical, this may suggest that you need to take extra steps to read them in properly."
   ]
  },
  {
   "cell_type": "markdown",
   "metadata": {
    "colab_type": "text",
    "id": "8EV1PilWtl0Z"
   },
   "source": [
    "## Answer the questions below. \n",
    "- Write your Python code that can answer the following questions, and\n",
    "- Explain your answers in plain English. "
   ]
  },
  {
   "cell_type": "markdown",
   "metadata": {
    "colab_type": "text",
    "id": "7n5ybXFQcR-g"
   },
   "source": [
    "### Q1. For 20 Points: Compare the distributions of the scores across the three rankings\n",
    "\n",
    "* Plot histograms and boxplots (or any other plots that you think to be helpful) for the overall scores for the CWUR, Times, and Shanghai rankings. What can you say about them?"
   ]
  },
  {
   "cell_type": "code",
   "execution_count": 1,
   "metadata": {
    "colab": {},
    "colab_type": "code",
    "id": "ttHwVC8ot5Ur"
   },
   "outputs": [],
   "source": [
    "import pandas as pd"
   ]
  },
  {
   "cell_type": "code",
   "execution_count": 83,
   "metadata": {},
   "outputs": [],
   "source": [
    "df_cwur = pd.read_csv('Data/cwurData.csv')\n",
    "df_times = pd.read_csv('Data/timesData.csv')\n",
    "df_shang = pd.read_csv('Data/shanghaiData.csv')\n",
    "df_cwur2 = df_cwur.copy()\n",
    "df_times2 = df_times.copy()\n",
    "df_shang2 = df_shang.copy()"
   ]
  },
  {
   "cell_type": "code",
   "execution_count": 84,
   "metadata": {},
   "outputs": [
    {
     "data": {
      "text/html": [
       "<div>\n",
       "<style scoped>\n",
       "    .dataframe tbody tr th:only-of-type {\n",
       "        vertical-align: middle;\n",
       "    }\n",
       "\n",
       "    .dataframe tbody tr th {\n",
       "        vertical-align: top;\n",
       "    }\n",
       "\n",
       "    .dataframe thead th {\n",
       "        text-align: right;\n",
       "    }\n",
       "</style>\n",
       "<table border=\"1\" class=\"dataframe\">\n",
       "  <thead>\n",
       "    <tr style=\"text-align: right;\">\n",
       "      <th></th>\n",
       "      <th>world_rank</th>\n",
       "      <th>national_rank</th>\n",
       "      <th>quality_of_education</th>\n",
       "      <th>alumni_employment</th>\n",
       "      <th>quality_of_faculty</th>\n",
       "      <th>publications</th>\n",
       "      <th>influence</th>\n",
       "      <th>citations</th>\n",
       "      <th>broad_impact</th>\n",
       "      <th>patents</th>\n",
       "      <th>score</th>\n",
       "      <th>year</th>\n",
       "    </tr>\n",
       "  </thead>\n",
       "  <tbody>\n",
       "    <tr>\n",
       "      <th>count</th>\n",
       "      <td>2200.000000</td>\n",
       "      <td>2200.000000</td>\n",
       "      <td>2200.000000</td>\n",
       "      <td>2200.000000</td>\n",
       "      <td>2200.000000</td>\n",
       "      <td>2200.000000</td>\n",
       "      <td>2200.000000</td>\n",
       "      <td>2200.000000</td>\n",
       "      <td>2000.000000</td>\n",
       "      <td>2200.000000</td>\n",
       "      <td>2200.000000</td>\n",
       "      <td>2200.000000</td>\n",
       "    </tr>\n",
       "    <tr>\n",
       "      <th>mean</th>\n",
       "      <td>459.590909</td>\n",
       "      <td>40.278182</td>\n",
       "      <td>275.100455</td>\n",
       "      <td>357.116818</td>\n",
       "      <td>178.888182</td>\n",
       "      <td>459.908636</td>\n",
       "      <td>459.797727</td>\n",
       "      <td>413.417273</td>\n",
       "      <td>496.699500</td>\n",
       "      <td>433.346364</td>\n",
       "      <td>47.798395</td>\n",
       "      <td>2014.318182</td>\n",
       "    </tr>\n",
       "    <tr>\n",
       "      <th>std</th>\n",
       "      <td>304.320363</td>\n",
       "      <td>51.740870</td>\n",
       "      <td>121.935100</td>\n",
       "      <td>186.779252</td>\n",
       "      <td>64.050885</td>\n",
       "      <td>303.760352</td>\n",
       "      <td>303.331822</td>\n",
       "      <td>264.366549</td>\n",
       "      <td>286.919755</td>\n",
       "      <td>273.996525</td>\n",
       "      <td>7.760806</td>\n",
       "      <td>0.762130</td>\n",
       "    </tr>\n",
       "    <tr>\n",
       "      <th>min</th>\n",
       "      <td>1.000000</td>\n",
       "      <td>1.000000</td>\n",
       "      <td>1.000000</td>\n",
       "      <td>1.000000</td>\n",
       "      <td>1.000000</td>\n",
       "      <td>1.000000</td>\n",
       "      <td>1.000000</td>\n",
       "      <td>1.000000</td>\n",
       "      <td>1.000000</td>\n",
       "      <td>1.000000</td>\n",
       "      <td>43.360000</td>\n",
       "      <td>2012.000000</td>\n",
       "    </tr>\n",
       "    <tr>\n",
       "      <th>25%</th>\n",
       "      <td>175.750000</td>\n",
       "      <td>6.000000</td>\n",
       "      <td>175.750000</td>\n",
       "      <td>175.750000</td>\n",
       "      <td>175.750000</td>\n",
       "      <td>175.750000</td>\n",
       "      <td>175.750000</td>\n",
       "      <td>161.000000</td>\n",
       "      <td>250.500000</td>\n",
       "      <td>170.750000</td>\n",
       "      <td>44.460000</td>\n",
       "      <td>2014.000000</td>\n",
       "    </tr>\n",
       "    <tr>\n",
       "      <th>50%</th>\n",
       "      <td>450.500000</td>\n",
       "      <td>21.000000</td>\n",
       "      <td>355.000000</td>\n",
       "      <td>450.500000</td>\n",
       "      <td>210.000000</td>\n",
       "      <td>450.500000</td>\n",
       "      <td>450.500000</td>\n",
       "      <td>406.000000</td>\n",
       "      <td>496.000000</td>\n",
       "      <td>426.000000</td>\n",
       "      <td>45.100000</td>\n",
       "      <td>2014.000000</td>\n",
       "    </tr>\n",
       "    <tr>\n",
       "      <th>75%</th>\n",
       "      <td>725.250000</td>\n",
       "      <td>49.000000</td>\n",
       "      <td>367.000000</td>\n",
       "      <td>478.000000</td>\n",
       "      <td>218.000000</td>\n",
       "      <td>725.000000</td>\n",
       "      <td>725.250000</td>\n",
       "      <td>645.000000</td>\n",
       "      <td>741.000000</td>\n",
       "      <td>714.250000</td>\n",
       "      <td>47.545000</td>\n",
       "      <td>2015.000000</td>\n",
       "    </tr>\n",
       "    <tr>\n",
       "      <th>max</th>\n",
       "      <td>1000.000000</td>\n",
       "      <td>229.000000</td>\n",
       "      <td>367.000000</td>\n",
       "      <td>567.000000</td>\n",
       "      <td>218.000000</td>\n",
       "      <td>1000.000000</td>\n",
       "      <td>991.000000</td>\n",
       "      <td>812.000000</td>\n",
       "      <td>1000.000000</td>\n",
       "      <td>871.000000</td>\n",
       "      <td>100.000000</td>\n",
       "      <td>2015.000000</td>\n",
       "    </tr>\n",
       "  </tbody>\n",
       "</table>\n",
       "</div>"
      ],
      "text/plain": [
       "        world_rank  national_rank  quality_of_education  alumni_employment  \\\n",
       "count  2200.000000    2200.000000           2200.000000        2200.000000   \n",
       "mean    459.590909      40.278182            275.100455         357.116818   \n",
       "std     304.320363      51.740870            121.935100         186.779252   \n",
       "min       1.000000       1.000000              1.000000           1.000000   \n",
       "25%     175.750000       6.000000            175.750000         175.750000   \n",
       "50%     450.500000      21.000000            355.000000         450.500000   \n",
       "75%     725.250000      49.000000            367.000000         478.000000   \n",
       "max    1000.000000     229.000000            367.000000         567.000000   \n",
       "\n",
       "       quality_of_faculty  publications    influence    citations  \\\n",
       "count         2200.000000   2200.000000  2200.000000  2200.000000   \n",
       "mean           178.888182    459.908636   459.797727   413.417273   \n",
       "std             64.050885    303.760352   303.331822   264.366549   \n",
       "min              1.000000      1.000000     1.000000     1.000000   \n",
       "25%            175.750000    175.750000   175.750000   161.000000   \n",
       "50%            210.000000    450.500000   450.500000   406.000000   \n",
       "75%            218.000000    725.000000   725.250000   645.000000   \n",
       "max            218.000000   1000.000000   991.000000   812.000000   \n",
       "\n",
       "       broad_impact      patents        score         year  \n",
       "count   2000.000000  2200.000000  2200.000000  2200.000000  \n",
       "mean     496.699500   433.346364    47.798395  2014.318182  \n",
       "std      286.919755   273.996525     7.760806     0.762130  \n",
       "min        1.000000     1.000000    43.360000  2012.000000  \n",
       "25%      250.500000   170.750000    44.460000  2014.000000  \n",
       "50%      496.000000   426.000000    45.100000  2014.000000  \n",
       "75%      741.000000   714.250000    47.545000  2015.000000  \n",
       "max     1000.000000   871.000000   100.000000  2015.000000  "
      ]
     },
     "execution_count": 84,
     "metadata": {},
     "output_type": "execute_result"
    }
   ],
   "source": [
    "df_cwur2.describe()"
   ]
  },
  {
   "cell_type": "code",
   "execution_count": 160,
   "metadata": {},
   "outputs": [
    {
     "data": {
      "text/html": [
       "<div>\n",
       "<style scoped>\n",
       "    .dataframe tbody tr th:only-of-type {\n",
       "        vertical-align: middle;\n",
       "    }\n",
       "\n",
       "    .dataframe tbody tr th {\n",
       "        vertical-align: top;\n",
       "    }\n",
       "\n",
       "    .dataframe thead th {\n",
       "        text-align: right;\n",
       "    }\n",
       "</style>\n",
       "<table border=\"1\" class=\"dataframe\">\n",
       "  <thead>\n",
       "    <tr style=\"text-align: right;\">\n",
       "      <th></th>\n",
       "      <th>world_rank</th>\n",
       "      <th>institution</th>\n",
       "      <th>country</th>\n",
       "      <th>national_rank</th>\n",
       "      <th>quality_of_education</th>\n",
       "      <th>alumni_employment</th>\n",
       "      <th>quality_of_faculty</th>\n",
       "      <th>publications</th>\n",
       "      <th>influence</th>\n",
       "      <th>citations</th>\n",
       "      <th>broad_impact</th>\n",
       "      <th>patents</th>\n",
       "      <th>score</th>\n",
       "      <th>year</th>\n",
       "    </tr>\n",
       "  </thead>\n",
       "  <tbody>\n",
       "    <tr>\n",
       "      <th>0</th>\n",
       "      <td>1</td>\n",
       "      <td>Harvard University</td>\n",
       "      <td>USA</td>\n",
       "      <td>1</td>\n",
       "      <td>7</td>\n",
       "      <td>9</td>\n",
       "      <td>1</td>\n",
       "      <td>1</td>\n",
       "      <td>1</td>\n",
       "      <td>1</td>\n",
       "      <td>NaN</td>\n",
       "      <td>5</td>\n",
       "      <td>100.00</td>\n",
       "      <td>2012</td>\n",
       "    </tr>\n",
       "    <tr>\n",
       "      <th>1</th>\n",
       "      <td>2</td>\n",
       "      <td>Massachusetts Institute of Technology</td>\n",
       "      <td>USA</td>\n",
       "      <td>2</td>\n",
       "      <td>9</td>\n",
       "      <td>17</td>\n",
       "      <td>3</td>\n",
       "      <td>12</td>\n",
       "      <td>4</td>\n",
       "      <td>4</td>\n",
       "      <td>NaN</td>\n",
       "      <td>1</td>\n",
       "      <td>91.67</td>\n",
       "      <td>2012</td>\n",
       "    </tr>\n",
       "    <tr>\n",
       "      <th>2</th>\n",
       "      <td>3</td>\n",
       "      <td>Stanford University</td>\n",
       "      <td>USA</td>\n",
       "      <td>3</td>\n",
       "      <td>17</td>\n",
       "      <td>11</td>\n",
       "      <td>5</td>\n",
       "      <td>4</td>\n",
       "      <td>2</td>\n",
       "      <td>2</td>\n",
       "      <td>NaN</td>\n",
       "      <td>15</td>\n",
       "      <td>89.50</td>\n",
       "      <td>2012</td>\n",
       "    </tr>\n",
       "    <tr>\n",
       "      <th>3</th>\n",
       "      <td>4</td>\n",
       "      <td>University of Cambridge</td>\n",
       "      <td>United Kingdom</td>\n",
       "      <td>1</td>\n",
       "      <td>10</td>\n",
       "      <td>24</td>\n",
       "      <td>4</td>\n",
       "      <td>16</td>\n",
       "      <td>16</td>\n",
       "      <td>11</td>\n",
       "      <td>NaN</td>\n",
       "      <td>50</td>\n",
       "      <td>86.17</td>\n",
       "      <td>2012</td>\n",
       "    </tr>\n",
       "    <tr>\n",
       "      <th>4</th>\n",
       "      <td>5</td>\n",
       "      <td>California Institute of Technology</td>\n",
       "      <td>USA</td>\n",
       "      <td>4</td>\n",
       "      <td>2</td>\n",
       "      <td>29</td>\n",
       "      <td>7</td>\n",
       "      <td>37</td>\n",
       "      <td>22</td>\n",
       "      <td>22</td>\n",
       "      <td>NaN</td>\n",
       "      <td>18</td>\n",
       "      <td>85.21</td>\n",
       "      <td>2012</td>\n",
       "    </tr>\n",
       "  </tbody>\n",
       "</table>\n",
       "</div>"
      ],
      "text/plain": [
       "   world_rank                            institution         country  \\\n",
       "0           1                     Harvard University             USA   \n",
       "1           2  Massachusetts Institute of Technology             USA   \n",
       "2           3                    Stanford University             USA   \n",
       "3           4                University of Cambridge  United Kingdom   \n",
       "4           5     California Institute of Technology             USA   \n",
       "\n",
       "   national_rank  quality_of_education  alumni_employment  quality_of_faculty  \\\n",
       "0              1                     7                  9                   1   \n",
       "1              2                     9                 17                   3   \n",
       "2              3                    17                 11                   5   \n",
       "3              1                    10                 24                   4   \n",
       "4              4                     2                 29                   7   \n",
       "\n",
       "   publications  influence  citations  broad_impact  patents   score  year  \n",
       "0             1          1          1           NaN        5  100.00  2012  \n",
       "1            12          4          4           NaN        1   91.67  2012  \n",
       "2             4          2          2           NaN       15   89.50  2012  \n",
       "3            16         16         11           NaN       50   86.17  2012  \n",
       "4            37         22         22           NaN       18   85.21  2012  "
      ]
     },
     "execution_count": 160,
     "metadata": {},
     "output_type": "execute_result"
    }
   ],
   "source": [
    "df_cwur2.head()"
   ]
  },
  {
   "cell_type": "code",
   "execution_count": 85,
   "metadata": {},
   "outputs": [
    {
     "data": {
      "text/plain": [
       "world_rank                int64\n",
       "institution              object\n",
       "country                  object\n",
       "national_rank             int64\n",
       "quality_of_education      int64\n",
       "alumni_employment         int64\n",
       "quality_of_faculty        int64\n",
       "publications              int64\n",
       "influence                 int64\n",
       "citations                 int64\n",
       "broad_impact            float64\n",
       "patents                   int64\n",
       "score                   float64\n",
       "year                      int64\n",
       "dtype: object"
      ]
     },
     "execution_count": 85,
     "metadata": {},
     "output_type": "execute_result"
    }
   ],
   "source": [
    "df_cwur2.dtypes"
   ]
  },
  {
   "cell_type": "code",
   "execution_count": 86,
   "metadata": {},
   "outputs": [
    {
     "data": {
      "text/html": [
       "<div>\n",
       "<style scoped>\n",
       "    .dataframe tbody tr th:only-of-type {\n",
       "        vertical-align: middle;\n",
       "    }\n",
       "\n",
       "    .dataframe tbody tr th {\n",
       "        vertical-align: top;\n",
       "    }\n",
       "\n",
       "    .dataframe thead th {\n",
       "        text-align: right;\n",
       "    }\n",
       "</style>\n",
       "<table border=\"1\" class=\"dataframe\">\n",
       "  <thead>\n",
       "    <tr style=\"text-align: right;\">\n",
       "      <th></th>\n",
       "      <th>teaching</th>\n",
       "      <th>research</th>\n",
       "      <th>citations</th>\n",
       "      <th>student_staff_ratio</th>\n",
       "      <th>year</th>\n",
       "    </tr>\n",
       "  </thead>\n",
       "  <tbody>\n",
       "    <tr>\n",
       "      <th>count</th>\n",
       "      <td>2603.000000</td>\n",
       "      <td>2603.000000</td>\n",
       "      <td>2603.000000</td>\n",
       "      <td>2544.000000</td>\n",
       "      <td>2603.000000</td>\n",
       "    </tr>\n",
       "    <tr>\n",
       "      <th>mean</th>\n",
       "      <td>37.801498</td>\n",
       "      <td>35.910257</td>\n",
       "      <td>60.921629</td>\n",
       "      <td>18.445283</td>\n",
       "      <td>2014.075682</td>\n",
       "    </tr>\n",
       "    <tr>\n",
       "      <th>std</th>\n",
       "      <td>17.604218</td>\n",
       "      <td>21.254805</td>\n",
       "      <td>23.073219</td>\n",
       "      <td>11.458698</td>\n",
       "      <td>1.685733</td>\n",
       "    </tr>\n",
       "    <tr>\n",
       "      <th>min</th>\n",
       "      <td>9.900000</td>\n",
       "      <td>2.900000</td>\n",
       "      <td>1.200000</td>\n",
       "      <td>0.600000</td>\n",
       "      <td>2011.000000</td>\n",
       "    </tr>\n",
       "    <tr>\n",
       "      <th>25%</th>\n",
       "      <td>24.700000</td>\n",
       "      <td>19.600000</td>\n",
       "      <td>45.500000</td>\n",
       "      <td>11.975000</td>\n",
       "      <td>2013.000000</td>\n",
       "    </tr>\n",
       "    <tr>\n",
       "      <th>50%</th>\n",
       "      <td>33.900000</td>\n",
       "      <td>30.500000</td>\n",
       "      <td>62.500000</td>\n",
       "      <td>16.100000</td>\n",
       "      <td>2014.000000</td>\n",
       "    </tr>\n",
       "    <tr>\n",
       "      <th>75%</th>\n",
       "      <td>46.400000</td>\n",
       "      <td>47.250000</td>\n",
       "      <td>79.050000</td>\n",
       "      <td>21.500000</td>\n",
       "      <td>2016.000000</td>\n",
       "    </tr>\n",
       "    <tr>\n",
       "      <th>max</th>\n",
       "      <td>99.700000</td>\n",
       "      <td>99.400000</td>\n",
       "      <td>100.000000</td>\n",
       "      <td>162.600000</td>\n",
       "      <td>2016.000000</td>\n",
       "    </tr>\n",
       "  </tbody>\n",
       "</table>\n",
       "</div>"
      ],
      "text/plain": [
       "          teaching     research    citations  student_staff_ratio         year\n",
       "count  2603.000000  2603.000000  2603.000000          2544.000000  2603.000000\n",
       "mean     37.801498    35.910257    60.921629            18.445283  2014.075682\n",
       "std      17.604218    21.254805    23.073219            11.458698     1.685733\n",
       "min       9.900000     2.900000     1.200000             0.600000  2011.000000\n",
       "25%      24.700000    19.600000    45.500000            11.975000  2013.000000\n",
       "50%      33.900000    30.500000    62.500000            16.100000  2014.000000\n",
       "75%      46.400000    47.250000    79.050000            21.500000  2016.000000\n",
       "max      99.700000    99.400000   100.000000           162.600000  2016.000000"
      ]
     },
     "execution_count": 86,
     "metadata": {},
     "output_type": "execute_result"
    }
   ],
   "source": [
    "df_times2.describe()"
   ]
  },
  {
   "cell_type": "code",
   "execution_count": 87,
   "metadata": {},
   "outputs": [
    {
     "data": {
      "text/plain": [
       "world_rank                 object\n",
       "university_name            object\n",
       "country                    object\n",
       "teaching                  float64\n",
       "international              object\n",
       "research                  float64\n",
       "citations                 float64\n",
       "income                     object\n",
       "total_score                object\n",
       "num_students               object\n",
       "student_staff_ratio       float64\n",
       "international_students     object\n",
       "female_male_ratio          object\n",
       "year                        int64\n",
       "dtype: object"
      ]
     },
     "execution_count": 87,
     "metadata": {},
     "output_type": "execute_result"
    }
   ],
   "source": [
    "df_times2.dtypes"
   ]
  },
  {
   "cell_type": "code",
   "execution_count": 88,
   "metadata": {},
   "outputs": [
    {
     "data": {
      "text/html": [
       "<div>\n",
       "<style scoped>\n",
       "    .dataframe tbody tr th:only-of-type {\n",
       "        vertical-align: middle;\n",
       "    }\n",
       "\n",
       "    .dataframe tbody tr th {\n",
       "        vertical-align: top;\n",
       "    }\n",
       "\n",
       "    .dataframe thead th {\n",
       "        text-align: right;\n",
       "    }\n",
       "</style>\n",
       "<table border=\"1\" class=\"dataframe\">\n",
       "  <thead>\n",
       "    <tr style=\"text-align: right;\">\n",
       "      <th></th>\n",
       "      <th>world_rank</th>\n",
       "      <th>university_name</th>\n",
       "      <th>country</th>\n",
       "      <th>teaching</th>\n",
       "      <th>international</th>\n",
       "      <th>research</th>\n",
       "      <th>citations</th>\n",
       "      <th>income</th>\n",
       "      <th>total_score</th>\n",
       "      <th>num_students</th>\n",
       "      <th>student_staff_ratio</th>\n",
       "      <th>international_students</th>\n",
       "      <th>female_male_ratio</th>\n",
       "      <th>year</th>\n",
       "    </tr>\n",
       "  </thead>\n",
       "  <tbody>\n",
       "    <tr>\n",
       "      <th>2207</th>\n",
       "      <td>401-500</td>\n",
       "      <td>University of Bari Aldo Moro</td>\n",
       "      <td>Italy</td>\n",
       "      <td>28.7</td>\n",
       "      <td>31.7</td>\n",
       "      <td>21.6</td>\n",
       "      <td>48.8</td>\n",
       "      <td>45.4</td>\n",
       "      <td>-</td>\n",
       "      <td>51,560</td>\n",
       "      <td>65.1</td>\n",
       "      <td>2%</td>\n",
       "      <td>65 : 35</td>\n",
       "      <td>2016</td>\n",
       "    </tr>\n",
       "    <tr>\n",
       "      <th>1936</th>\n",
       "      <td>=133</td>\n",
       "      <td>Case Western Reserve University</td>\n",
       "      <td>United States of America</td>\n",
       "      <td>46.1</td>\n",
       "      <td>40.5</td>\n",
       "      <td>33.2</td>\n",
       "      <td>92.0</td>\n",
       "      <td>34.1</td>\n",
       "      <td>55.3</td>\n",
       "      <td>9,259</td>\n",
       "      <td>6.4</td>\n",
       "      <td>17%</td>\n",
       "      <td>48 : 52</td>\n",
       "      <td>2016</td>\n",
       "    </tr>\n",
       "    <tr>\n",
       "      <th>365</th>\n",
       "      <td>166</td>\n",
       "      <td>Tel Aviv University</td>\n",
       "      <td>Israel</td>\n",
       "      <td>47.3</td>\n",
       "      <td>30.1</td>\n",
       "      <td>60.7</td>\n",
       "      <td>33.0</td>\n",
       "      <td>35.0</td>\n",
       "      <td>45.4</td>\n",
       "      <td>23,977</td>\n",
       "      <td>24.4</td>\n",
       "      <td>4%</td>\n",
       "      <td>NaN</td>\n",
       "      <td>2012</td>\n",
       "    </tr>\n",
       "    <tr>\n",
       "      <th>375</th>\n",
       "      <td>176</td>\n",
       "      <td>University of Dundee</td>\n",
       "      <td>United Kingdom</td>\n",
       "      <td>20.8</td>\n",
       "      <td>62.5</td>\n",
       "      <td>20.1</td>\n",
       "      <td>87.1</td>\n",
       "      <td>55.3</td>\n",
       "      <td>44.5</td>\n",
       "      <td>11,628</td>\n",
       "      <td>15.3</td>\n",
       "      <td>25%</td>\n",
       "      <td>60 : 40</td>\n",
       "      <td>2012</td>\n",
       "    </tr>\n",
       "    <tr>\n",
       "      <th>1259</th>\n",
       "      <td>251-275</td>\n",
       "      <td>Montpellier University</td>\n",
       "      <td>France</td>\n",
       "      <td>23.4</td>\n",
       "      <td>54.2</td>\n",
       "      <td>24.7</td>\n",
       "      <td>67.7</td>\n",
       "      <td>33.4</td>\n",
       "      <td>-</td>\n",
       "      <td>36,731</td>\n",
       "      <td>18.4</td>\n",
       "      <td>14%</td>\n",
       "      <td>51 : 49</td>\n",
       "      <td>2014</td>\n",
       "    </tr>\n",
       "  </tbody>\n",
       "</table>\n",
       "</div>"
      ],
      "text/plain": [
       "     world_rank                  university_name                   country  \\\n",
       "2207    401-500     University of Bari Aldo Moro                     Italy   \n",
       "1936       =133  Case Western Reserve University  United States of America   \n",
       "365         166              Tel Aviv University                    Israel   \n",
       "375         176             University of Dundee            United Kingdom   \n",
       "1259    251-275           Montpellier University                    France   \n",
       "\n",
       "      teaching international  research  citations income total_score  \\\n",
       "2207      28.7          31.7      21.6       48.8   45.4           -   \n",
       "1936      46.1          40.5      33.2       92.0   34.1        55.3   \n",
       "365       47.3          30.1      60.7       33.0   35.0        45.4   \n",
       "375       20.8          62.5      20.1       87.1   55.3        44.5   \n",
       "1259      23.4          54.2      24.7       67.7   33.4           -   \n",
       "\n",
       "     num_students  student_staff_ratio international_students  \\\n",
       "2207       51,560                 65.1                     2%   \n",
       "1936        9,259                  6.4                    17%   \n",
       "365        23,977                 24.4                     4%   \n",
       "375        11,628                 15.3                    25%   \n",
       "1259       36,731                 18.4                    14%   \n",
       "\n",
       "     female_male_ratio  year  \n",
       "2207           65 : 35  2016  \n",
       "1936           48 : 52  2016  \n",
       "365                NaN  2012  \n",
       "375            60 : 40  2012  \n",
       "1259           51 : 49  2014  "
      ]
     },
     "execution_count": 88,
     "metadata": {},
     "output_type": "execute_result"
    }
   ],
   "source": [
    "df_times2.sample(5)"
   ]
  },
  {
   "cell_type": "code",
   "execution_count": 95,
   "metadata": {},
   "outputs": [],
   "source": [
    "df_times2['total_score'] = df_times2['total_score'].str.replace('-','')"
   ]
  },
  {
   "cell_type": "code",
   "execution_count": 92,
   "metadata": {},
   "outputs": [
    {
     "data": {
      "text/plain": [
       "array(['96.1', '96.0', '95.6', '94.3', '94.2', '91.2', '91.1', '90.6',\n",
       "       '89.5', '87.7', '86.9', '86.4', '83.9', '83.4', '82.0', '81.0',\n",
       "       '79.5', '79.3', '79.2', '78.4', '78.0', '76.5', '75.9', '75.6',\n",
       "       '75.3', '75.1', '75.0', '73.8', '73.2', '73.0', '72.9', '71.7',\n",
       "       '71.0', '70.7', '69.9', '69.5', '69.2', '69.0', '68.6', '67.0',\n",
       "       '66.9', '66.5', '66.0', '65.9', '65.6', '65.2', '65.0', '64.9',\n",
       "       '64.7', '64.6', '64.2', '64.0', '63.9', '63.0', '62.8', '62.7',\n",
       "       '62.2', '62.1', '61.6', '61.4', '61.2', '61.1', '60.7', '60.4',\n",
       "       '60.3', '59.7', '59.6', '59.5', '59.1', '59.0', '58.9', '58.3',\n",
       "       '58.0', '57.9', '57.8', '57.7', '57.6', '57.5', '57.3', '57.2',\n",
       "       '57.1', '57.0', '56.9', '56.6', '56.5', '56.4', '56.3', '56.2',\n",
       "       '56.1', '56.0', '55.6', '55.4', '55.3', '55.2', '55.1', '55.0',\n",
       "       '54.8', '54.6', '54.5', '54.4', '54.3', '54.2', '54.0', '53.4',\n",
       "       '53.3', '52.7', '52.6', '52.5', '52.4', '52.3', '52.2', '52.1',\n",
       "       '52.0', '51.9', '51.8', '51.6', '51.4', '51.3', '51.2', '51.1',\n",
       "       '51.0', '50.7', '50.4', '50.3', '50.2', '50.1', '50.0', '49.9',\n",
       "       '49.8', '49.7', '49.6', '49.4', '49.3', '49.0', '48.8', '48.5',\n",
       "       '48.3', '48.2', '47.7', '47.6', '47.5', '47.3', '47.2', '47.0',\n",
       "       '46.9', '46.8', '46.7', '46.5', '46.4', '46.2', '94.8', '93.9',\n",
       "       '93.6', '92.9', '92.4', '92.3', '90.7', '90.2', '89.8', '89.1',\n",
       "       '87.5', '87.3', '85.8', '85.0', '84.9', '83.2', '82.8', '81.6',\n",
       "       '80.5', '77.4', '77.0', '76.2', '75.8', '75.5', '74.9', '74.3',\n",
       "       '74.2', '73.1', '72.3', '72.1', '72.0', '71.9', '71.2', '70.9',\n",
       "       '70.5', '70.0', '69.3', '67.6', '66.3', '65.7', '64.8', '63.2',\n",
       "       '62.4', '62.0', '61.9', '61.7', '61.5', '61.0', '60.9', '60.8',\n",
       "       '58.7', '58.6', '57.4', '56.8', '55.7', '54.9', '54.7', '53.9',\n",
       "       '53.7', '53.6', '53.2', '53.1', '53.0', '52.9', '52.8', '50.8',\n",
       "       '49.5', '49.2', '48.0', '47.9', '47.4', '46.6', '46.1', '46.0',\n",
       "       '45.9', '45.8', '45.7', '45.4', '45.2', '45.1', '45.0', '44.8',\n",
       "       '44.6', '44.5', '44.2', '44.1', '43.8', '43.6', '43.4', '43.2',\n",
       "       '43.1', '43.0', '42.9', '42.8', '42.7', '42.6', '42.5', '42.4',\n",
       "       '41.6', '41.5', '41.4', '', '95.5', '93.7', '93.1', '92.7', '92.6',\n",
       "       '90.5', '90.4', '89.2', '87.8', '87.0', '86.6', '85.6', '85.5',\n",
       "       '83.3', '83.1', '82.6', '82.2', '81.5', '81.2', '79.9', '78.8',\n",
       "       '78.3', '77.9', '77.5', '77.3', '76.9', '76.1', '75.7', '75.4',\n",
       "       '75.2', '72.8', '72.4', '71.8', '70.4', '70.1', '69.4', '68.9',\n",
       "       '67.1', '66.8', '66.2', '66.1', '65.8', '65.1', '64.4', '64.1',\n",
       "       '63.8', '62.9', '62.5', '61.3', '60.5', '60.1', '59.8', '59.4',\n",
       "       '58.8', '58.4', '58.2', '55.8', '55.5', '53.5', '51.7', '51.5',\n",
       "       '50.9', '50.5', '48.9', '48.6', '47.1', '94.9', '93.8', '93.0',\n",
       "       '87.4', '86.3', '85.2', '84.5', '83.7', '79.1', '77.6', '77.1',\n",
       "       '76.4', '76.0', '73.4', '72.2', '71.6', '71.4', '71.1', '70.8',\n",
       "       '69.8', '68.4', '68.2', '68.1', '67.8', '67.7', '67.5', '67.4',\n",
       "       '67.2', '65.3', '64.5', '63.5', '63.1', '62.3', '59.9', '59.2',\n",
       "       '58.1', '56.7', '55.9', '54.1', '53.8', '49.1', '48.7', '48.4',\n",
       "       '47.8', '46.3', '45.6', '45.5', '45.3', '44.9', '44.7', '44.3',\n",
       "       '93.3', '93.2', '92.0', '91.9', '90.9', '87.1', '84.6', '84.4',\n",
       "       '83.0', '80.9', '79.4', '78.7', '73.3', '69.6', '63.7', '63.6',\n",
       "       '48.1', '95.2', '92.8', '91.6', '90.1', '88.3', '87.9', '87.6',\n",
       "       '87.2', '86.1', '84.0', '82.7', '82.4', '82.3', '81.3', '80.3',\n",
       "       '78.2', '77.2', '74.8', '74.5', '74.4', '72.6', '70.3', '69.7',\n",
       "       '66.6', '66.4', '65.5', '64.3', '58.5', '50.6'], dtype=object)"
      ]
     },
     "execution_count": 92,
     "metadata": {},
     "output_type": "execute_result"
    }
   ],
   "source": [
    "df_times2['total_score'].unique()"
   ]
  },
  {
   "cell_type": "code",
   "execution_count": 99,
   "metadata": {},
   "outputs": [],
   "source": [
    "df_times2 = df_times2[df_times2.total_score != '']"
   ]
  },
  {
   "cell_type": "code",
   "execution_count": 100,
   "metadata": {},
   "outputs": [],
   "source": [
    "df_times2['total_score'] = df_times2['total_score'].astype(float)"
   ]
  },
  {
   "cell_type": "code",
   "execution_count": 101,
   "metadata": {},
   "outputs": [
    {
     "data": {
      "text/html": [
       "<div>\n",
       "<style scoped>\n",
       "    .dataframe tbody tr th:only-of-type {\n",
       "        vertical-align: middle;\n",
       "    }\n",
       "\n",
       "    .dataframe tbody tr th {\n",
       "        vertical-align: top;\n",
       "    }\n",
       "\n",
       "    .dataframe thead th {\n",
       "        text-align: right;\n",
       "    }\n",
       "</style>\n",
       "<table border=\"1\" class=\"dataframe\">\n",
       "  <thead>\n",
       "    <tr style=\"text-align: right;\">\n",
       "      <th></th>\n",
       "      <th>total_score</th>\n",
       "      <th>alumni</th>\n",
       "      <th>award</th>\n",
       "      <th>hici</th>\n",
       "      <th>ns</th>\n",
       "      <th>pub</th>\n",
       "      <th>pcp</th>\n",
       "      <th>year</th>\n",
       "    </tr>\n",
       "  </thead>\n",
       "  <tbody>\n",
       "    <tr>\n",
       "      <th>count</th>\n",
       "      <td>1101.000000</td>\n",
       "      <td>4896.000000</td>\n",
       "      <td>4895.00000</td>\n",
       "      <td>4895.000000</td>\n",
       "      <td>4875.000000</td>\n",
       "      <td>4895.000000</td>\n",
       "      <td>4895.000000</td>\n",
       "      <td>4897.000000</td>\n",
       "    </tr>\n",
       "    <tr>\n",
       "      <th>mean</th>\n",
       "      <td>36.383470</td>\n",
       "      <td>9.161724</td>\n",
       "      <td>7.69191</td>\n",
       "      <td>16.221491</td>\n",
       "      <td>16.078503</td>\n",
       "      <td>38.254648</td>\n",
       "      <td>21.242329</td>\n",
       "      <td>2009.658566</td>\n",
       "    </tr>\n",
       "    <tr>\n",
       "      <th>std</th>\n",
       "      <td>13.557186</td>\n",
       "      <td>14.140636</td>\n",
       "      <td>15.49411</td>\n",
       "      <td>14.382710</td>\n",
       "      <td>12.511529</td>\n",
       "      <td>13.050809</td>\n",
       "      <td>9.254351</td>\n",
       "      <td>3.197576</td>\n",
       "    </tr>\n",
       "    <tr>\n",
       "      <th>min</th>\n",
       "      <td>23.500000</td>\n",
       "      <td>0.000000</td>\n",
       "      <td>0.00000</td>\n",
       "      <td>0.000000</td>\n",
       "      <td>0.000000</td>\n",
       "      <td>7.300000</td>\n",
       "      <td>8.300000</td>\n",
       "      <td>2005.000000</td>\n",
       "    </tr>\n",
       "    <tr>\n",
       "      <th>25%</th>\n",
       "      <td>27.400000</td>\n",
       "      <td>0.000000</td>\n",
       "      <td>0.00000</td>\n",
       "      <td>7.300000</td>\n",
       "      <td>8.000000</td>\n",
       "      <td>28.900000</td>\n",
       "      <td>15.600000</td>\n",
       "      <td>2007.000000</td>\n",
       "    </tr>\n",
       "    <tr>\n",
       "      <th>50%</th>\n",
       "      <td>31.300000</td>\n",
       "      <td>0.000000</td>\n",
       "      <td>0.00000</td>\n",
       "      <td>12.600000</td>\n",
       "      <td>12.800000</td>\n",
       "      <td>36.000000</td>\n",
       "      <td>19.000000</td>\n",
       "      <td>2009.000000</td>\n",
       "    </tr>\n",
       "    <tr>\n",
       "      <th>75%</th>\n",
       "      <td>41.800000</td>\n",
       "      <td>15.600000</td>\n",
       "      <td>13.40000</td>\n",
       "      <td>21.700000</td>\n",
       "      <td>19.800000</td>\n",
       "      <td>45.300000</td>\n",
       "      <td>24.500000</td>\n",
       "      <td>2012.000000</td>\n",
       "    </tr>\n",
       "    <tr>\n",
       "      <th>max</th>\n",
       "      <td>100.000000</td>\n",
       "      <td>100.000000</td>\n",
       "      <td>100.00000</td>\n",
       "      <td>100.000000</td>\n",
       "      <td>100.000000</td>\n",
       "      <td>100.000000</td>\n",
       "      <td>100.000000</td>\n",
       "      <td>2015.000000</td>\n",
       "    </tr>\n",
       "  </tbody>\n",
       "</table>\n",
       "</div>"
      ],
      "text/plain": [
       "       total_score       alumni       award         hici           ns  \\\n",
       "count  1101.000000  4896.000000  4895.00000  4895.000000  4875.000000   \n",
       "mean     36.383470     9.161724     7.69191    16.221491    16.078503   \n",
       "std      13.557186    14.140636    15.49411    14.382710    12.511529   \n",
       "min      23.500000     0.000000     0.00000     0.000000     0.000000   \n",
       "25%      27.400000     0.000000     0.00000     7.300000     8.000000   \n",
       "50%      31.300000     0.000000     0.00000    12.600000    12.800000   \n",
       "75%      41.800000    15.600000    13.40000    21.700000    19.800000   \n",
       "max     100.000000   100.000000   100.00000   100.000000   100.000000   \n",
       "\n",
       "               pub          pcp         year  \n",
       "count  4895.000000  4895.000000  4897.000000  \n",
       "mean     38.254648    21.242329  2009.658566  \n",
       "std      13.050809     9.254351     3.197576  \n",
       "min       7.300000     8.300000  2005.000000  \n",
       "25%      28.900000    15.600000  2007.000000  \n",
       "50%      36.000000    19.000000  2009.000000  \n",
       "75%      45.300000    24.500000  2012.000000  \n",
       "max     100.000000   100.000000  2015.000000  "
      ]
     },
     "execution_count": 101,
     "metadata": {},
     "output_type": "execute_result"
    }
   ],
   "source": [
    "df_shang2.describe()"
   ]
  },
  {
   "cell_type": "code",
   "execution_count": 102,
   "metadata": {},
   "outputs": [
    {
     "data": {
      "text/plain": [
       "world_rank          object\n",
       "university_name     object\n",
       "national_rank       object\n",
       "total_score        float64\n",
       "alumni             float64\n",
       "award              float64\n",
       "hici               float64\n",
       "ns                 float64\n",
       "pub                float64\n",
       "pcp                float64\n",
       "year                 int64\n",
       "dtype: object"
      ]
     },
     "execution_count": 102,
     "metadata": {},
     "output_type": "execute_result"
    }
   ],
   "source": [
    "df_shang2.dtypes"
   ]
  },
  {
   "cell_type": "code",
   "execution_count": 103,
   "metadata": {},
   "outputs": [],
   "source": [
    "import seaborn as sns\n",
    "import matplotlib.pyplot as plt\n",
    "%matplotlib inline      "
   ]
  },
  {
   "cell_type": "code",
   "execution_count": 104,
   "metadata": {},
   "outputs": [
    {
     "name": "stderr",
     "output_type": "stream",
     "text": [
      "C:\\Users\\YING\\Anaconda3\\lib\\site-packages\\scipy\\stats\\stats.py:1713: FutureWarning: Using a non-tuple sequence for multidimensional indexing is deprecated; use `arr[tuple(seq)]` instead of `arr[seq]`. In the future this will be interpreted as an array index, `arr[np.array(seq)]`, which will result either in an error or a different result.\n",
      "  return np.add.reduce(sorted[indexer] * weights, axis=axis) / sumval\n"
     ]
    },
    {
     "data": {
      "text/plain": [
       "<matplotlib.axes._subplots.AxesSubplot at 0xb5ba908>"
      ]
     },
     "execution_count": 104,
     "metadata": {},
     "output_type": "execute_result"
    },
    {
     "data": {
      "image/png": "[encoded data removed]",
      "text/plain": [
       "<Figure size 432x288 with 4 Axes>"
      ]
     },
     "metadata": {
      "needs_background": "light"
     },
     "output_type": "display_data"
    }
   ],
   "source": [
    "fig, axs = plt.subplots(2,2)\n",
    "sns.violinplot(x=df_cwur2.score, color=\"#d7d0f3\", ax=axs[0,0])\n",
    "sns.violinplot(x=df_times2.total_score, color=\"#d7d0f3\", ax=axs[0,1])\n",
    "sns.violinplot(x=df_shang2.total_score, color=\"#d7d0f3\", ax=axs[1,0])"
   ]
  },
  {
   "cell_type": "markdown",
   "metadata": {
    "colab_type": "text",
    "id": "FD6-7-D-uWmX"
   },
   "source": [
    "#### From the above violinplots, we can say something about the overall scores for the three rankings.\n",
    "* CWUR. The majority of scores for cwur are between 40 and 55, with very few higher than 60. The mode is about 45. \n",
    "* Times. Scores spread from 40 to 100,  with the mode at about 52.\n",
    "* Shanghai. Scores spread mostly from 20 to 80, very few above 80. The mode is at about 28. \n",
    "\n",
    "###### Thus, we can see that for the universities, CWUR, Times and Shanghai gives different ranges and distributions of scores according to the standard of each of them."
   ]
  },
  {
   "cell_type": "markdown",
   "metadata": {
    "colab_type": "text",
    "id": "lwumWcqTcMCs"
   },
   "source": [
    "### Q2. For 10 Points: Using the Times data, look at the number of students (`num_students` column) for all universities in 2016.\n",
    "\n",
    "* Plot the distribution using the `multiplePlots` function from class. What does it look like?\n",
    "* Compare the mean and median. Are they similar or different, and why?\n",
    "* Which school has the most students?"
   ]
  },
  {
   "cell_type": "code",
   "execution_count": 105,
   "metadata": {},
   "outputs": [
    {
     "data": {
      "text/plain": [
       "array(['20,152', '2,243', '11,074', '15,596', '7,929', '18,812', '19,919',\n",
       "       '36,186', '15,060', '11,751', '38,206', '14,221', '15,128',\n",
       "       '21,424', '18,178', '41,786', '66,198', '25,055', '20,376',\n",
       "       '11,885', '19,835', '26,607', '44,020', '15,172', '18,334',\n",
       "       '26,199', '19,967', '3,055', '22,020', '50,152', '26,518',\n",
       "       '27,233', '42,727', '31,592', '31,326', '40,128', '40,148',\n",
       "       '12,528', '2,429', '25,774', '11,385', '2,400', '14,604', '7,774',\n",
       "       '25,581', nan, '6,333', '9,666', '26,614', '14,290', '12,161',\n",
       "       '46,825', '10,410', '35,364', '8,653', '56,959', '22,809',\n",
       "       '39,763', '24,789', '42,056', '12,338', '35,691', '11,829',\n",
       "       '26,485', '9,259', '51,462', '29,325', '17,906', '17,404', '6,753',\n",
       "       '41,868', '23,845', '20,771', '36,534', '7,867', '15,521',\n",
       "       '21,394', '21,908', '9,027', '12,001', '34,718', '28,881',\n",
       "       '25,674', '15,489', '34,938', '8,747', '28,251', '20,925',\n",
       "       '26,583', '7,326', '23,823', '22,193', '20,541', '36,429',\n",
       "       '12,551', '31,331', '6,178', '2,218', '35,565', '23,505', '8,338',\n",
       "       '6,671', '37,032', '39,256', '10,221', '20,040', '44,501',\n",
       "       '26,389', '10,441', '9,586', '8,176', '31,891', '20,626', '15,668',\n",
       "       '42,503', '29,743', '14,260', '44,750', '9,990', '32,166',\n",
       "       '11,512', '21,222', '36,299', '22,616', '31,715', '23,144',\n",
       "       '17,581', '17,200', '26,467', '27,526', '11,623', '11,964',\n",
       "       '23,311', '38,264', '23,280', '27,862', '11,628', '47,491',\n",
       "       '30,779', '9,248', '29,787', '25,295', '127,431', '25,266',\n",
       "       '22,064', '12,938', '15,920', '9,454', '20,174', '38,309',\n",
       "       '10,901', '62,468', '29,991', '20,580', '19,262', '83,236',\n",
       "       '13,216', '9,336', '15,408', '24,570', '18,815', '23,895',\n",
       "       '27,703', '26,576', '24,556', '51,351', '31,861', '21,428',\n",
       "       '25,028', '14,992', '30,144', '27,545', '29,987', '50,882',\n",
       "       '32,474', '12,646', '37,917', '25,779', '17,755', '6,631',\n",
       "       '10,930', '25,294', '18,209', '28,327', '20,713', '36,108',\n",
       "       '24,774', '15,064', '12,062', '34,651', '23,122', '24,313',\n",
       "       '47,508', '26,640', '3,879', '39,655', '49,427', '9,390', '14,708',\n",
       "       '17,612', '50,095', '5,495', '17,916', '33,062', '18,529',\n",
       "       '17,713', '50,657', '12,050', '23,977', '27,756', '28,856',\n",
       "       '15,286', '20,488', '81,402', '27,139', '36,733', '20,851',\n",
       "       '10,015', '15,626', '14,541', '27,603', '16,306', '16,130',\n",
       "       '5,287', '12,346', '13,855', '25,668', '23,819', '18,539', '1,283',\n",
       "       '4,408', '11,506', '462', '35,487', '24,365', '34,550', '19,660',\n",
       "       '2,739', '32,175', '30,822', '2,958', '11,761', '36,146', '39,838',\n",
       "       '30,538', '43,280', '30,726', '26,420', '769', '23,347', '9,187',\n",
       "       '5,144', '6,853', '16,841', '17,940'], dtype=object)"
      ]
     },
     "execution_count": 105,
     "metadata": {},
     "output_type": "execute_result"
    }
   ],
   "source": [
    "df_times2.num_students.unique()"
   ]
  },
  {
   "cell_type": "code",
   "execution_count": 106,
   "metadata": {},
   "outputs": [],
   "source": [
    "df_times2 = df_times2.dropna(subset=['num_students'])"
   ]
  },
  {
   "cell_type": "code",
   "execution_count": 107,
   "metadata": {},
   "outputs": [],
   "source": [
    "df_times2['num_students'] =df_times2['num_students'].str.replace(',','')"
   ]
  },
  {
   "cell_type": "code",
   "execution_count": 112,
   "metadata": {},
   "outputs": [],
   "source": [
    "df_times2['num_students'] = df_times2['num_students'].astype(int)"
   ]
  },
  {
   "cell_type": "code",
   "execution_count": 127,
   "metadata": {},
   "outputs": [],
   "source": [
    "df_times2_2016 = df_times2[df_times2.year==2016]"
   ]
  },
  {
   "cell_type": "code",
   "execution_count": 115,
   "metadata": {},
   "outputs": [],
   "source": [
    "from scipy import stats"
   ]
  },
  {
   "cell_type": "code",
   "execution_count": 116,
   "metadata": {},
   "outputs": [],
   "source": [
    "def multiplePlots( series ):\n",
    "    \n",
    "    fig, axs = plt.subplots(2,2)\n",
    "    plt.tight_layout(pad=0.4, w_pad=4, h_pad=1.0)\n",
    "\n",
    "    # Histogram\n",
    "    sns.distplot(series, ax=axs[0,0])\n",
    "    \n",
    "    # Lag plot\n",
    "    lag = series.copy()\n",
    "    lag = np.array(lag[:-1])\n",
    "    current = series[1:]\n",
    "    ax = sns.regplot(current,lag,fit_reg=False, ax=axs[0,1])\n",
    "    ax.set_ylabel(\"y_i-1\")\n",
    "    ax.set_xlabel(\"y_i\")\n",
    "    \n",
    "    # QQ plot\n",
    "    qntls, xr = stats.probplot(series, fit=False)\n",
    "    sns.regplot(xr,qntls, ax=axs[1,0])\n",
    "    \n",
    "    # Run sequence\n",
    "    ax = sns.regplot(np.arange(len(series)),series, ax=axs[1,1])\n",
    "    ax.set_ylabel(\"val\")\n",
    "    ax.set_xlabel(\"i\")"
   ]
  },
  {
   "cell_type": "code",
   "execution_count": 128,
   "metadata": {},
   "outputs": [
    {
     "name": "stderr",
     "output_type": "stream",
     "text": [
      "C:\\Users\\YING\\Anaconda3\\lib\\site-packages\\scipy\\stats\\stats.py:1713: FutureWarning: Using a non-tuple sequence for multidimensional indexing is deprecated; use `arr[tuple(seq)]` instead of `arr[seq]`. In the future this will be interpreted as an array index, `arr[np.array(seq)]`, which will result either in an error or a different result.\n",
      "  return np.add.reduce(sorted[indexer] * weights, axis=axis) / sumval\n"
     ]
    },
    {
     "data": {
      "image/png": "[encoded data removed]",
      "text/plain": [
       "<Figure size 432x288 with 4 Axes>"
      ]
     },
     "metadata": {
      "needs_background": "light"
     },
     "output_type": "display_data"
    }
   ],
   "source": [
    "multiplePlots(df_times2_2016['num_students'])"
   ]
  },
  {
   "cell_type": "code",
   "execution_count": 133,
   "metadata": {},
   "outputs": [
    {
     "data": {
      "text/plain": [
       "23829.0"
      ]
     },
     "execution_count": 133,
     "metadata": {},
     "output_type": "execute_result"
    }
   ],
   "source": [
    "round(np.mean(df_times2_2016['num_students']),0)"
   ]
  },
  {
   "cell_type": "code",
   "execution_count": 134,
   "metadata": {},
   "outputs": [
    {
     "data": {
      "text/plain": [
       "23044.0"
      ]
     },
     "execution_count": 134,
     "metadata": {},
     "output_type": "execute_result"
    }
   ],
   "source": [
    "round(np.median(df_times2_2016['num_students']),0)"
   ]
  },
  {
   "cell_type": "code",
   "execution_count": 136,
   "metadata": {},
   "outputs": [
    {
     "data": {
      "text/html": [
       "<div>\n",
       "<style scoped>\n",
       "    .dataframe tbody tr th:only-of-type {\n",
       "        vertical-align: middle;\n",
       "    }\n",
       "\n",
       "    .dataframe tbody tr th {\n",
       "        vertical-align: top;\n",
       "    }\n",
       "\n",
       "    .dataframe thead th {\n",
       "        text-align: right;\n",
       "    }\n",
       "</style>\n",
       "<table border=\"1\" class=\"dataframe\">\n",
       "  <thead>\n",
       "    <tr style=\"text-align: right;\">\n",
       "      <th></th>\n",
       "      <th>world_rank</th>\n",
       "      <th>university_name</th>\n",
       "      <th>country</th>\n",
       "      <th>teaching</th>\n",
       "      <th>international</th>\n",
       "      <th>research</th>\n",
       "      <th>citations</th>\n",
       "      <th>income</th>\n",
       "      <th>total_score</th>\n",
       "      <th>num_students</th>\n",
       "      <th>student_staff_ratio</th>\n",
       "      <th>international_students</th>\n",
       "      <th>female_male_ratio</th>\n",
       "      <th>year</th>\n",
       "      <th>total_score2</th>\n",
       "    </tr>\n",
       "  </thead>\n",
       "  <tbody>\n",
       "    <tr>\n",
       "      <th>1991</th>\n",
       "      <td>189</td>\n",
       "      <td>Arizona State University</td>\n",
       "      <td>United States of America</td>\n",
       "      <td>32.4</td>\n",
       "      <td>31.9</td>\n",
       "      <td>38.1</td>\n",
       "      <td>84.6</td>\n",
       "      <td>32.0</td>\n",
       "      <td>49.7</td>\n",
       "      <td>83236</td>\n",
       "      <td>29.9</td>\n",
       "      <td>9%</td>\n",
       "      <td>50 : 50</td>\n",
       "      <td>2016</td>\n",
       "      <td>49.7</td>\n",
       "    </tr>\n",
       "    <tr>\n",
       "      <th>1821</th>\n",
       "      <td>19</td>\n",
       "      <td>University of Toronto</td>\n",
       "      <td>Canada</td>\n",
       "      <td>75.9</td>\n",
       "      <td>77.8</td>\n",
       "      <td>89.3</td>\n",
       "      <td>90.9</td>\n",
       "      <td>49.1</td>\n",
       "      <td>83.9</td>\n",
       "      <td>66198</td>\n",
       "      <td>19.5</td>\n",
       "      <td>15%</td>\n",
       "      <td>NaN</td>\n",
       "      <td>2016</td>\n",
       "      <td>83.9</td>\n",
       "    </tr>\n",
       "  </tbody>\n",
       "</table>\n",
       "</div>"
      ],
      "text/plain": [
       "     world_rank           university_name                   country  teaching  \\\n",
       "1991        189  Arizona State University  United States of America      32.4   \n",
       "1821         19     University of Toronto                    Canada      75.9   \n",
       "\n",
       "     international  research  citations income  total_score  num_students  \\\n",
       "1991          31.9      38.1       84.6   32.0         49.7         83236   \n",
       "1821          77.8      89.3       90.9   49.1         83.9         66198   \n",
       "\n",
       "      student_staff_ratio international_students female_male_ratio  year  \\\n",
       "1991                 29.9                     9%           50 : 50  2016   \n",
       "1821                 19.5                    15%               NaN  2016   \n",
       "\n",
       "     total_score2  \n",
       "1991         49.7  \n",
       "1821         83.9  "
      ]
     },
     "execution_count": 136,
     "metadata": {},
     "output_type": "execute_result"
    }
   ],
   "source": [
    "df_times2_2016.sort_values('num_students', ascending=False).head(2)"
   ]
  },
  {
   "cell_type": "code",
   "execution_count": 137,
   "metadata": {},
   "outputs": [
    {
     "data": {
      "text/plain": [
       "1991    Arizona State University\n",
       "Name: university_name, dtype: object"
      ]
     },
     "execution_count": 137,
     "metadata": {},
     "output_type": "execute_result"
    }
   ],
   "source": [
    "df_times2_2016.sort_values('num_students', ascending=False).head(1).university_name"
   ]
  },
  {
   "cell_type": "markdown",
   "metadata": {
    "colab_type": "text",
    "id": "CCuxztg3uYPQ"
   },
   "source": [
    "* From the histogram, it looks like a right-skewed distribution. The QQ plot indicates that it is not a normal distribution.  \n",
    "* The mean is 23829 and the median is 23044. They are different as the median is about 785 less than the mean, which also indicates that it is right-skewed distributed.\n",
    "* Arizona State University has the most students, which is 83236 students in total in the year 2016."
   ]
  },
  {
   "cell_type": "markdown",
   "metadata": {
    "colab_type": "text",
    "id": "wGoiQk8XbqHw"
   },
   "source": [
    "### Q3. For 10 points: Using the Times data, compare the international outlook scores (`international` column) for universities in the US versus universities outside the US.\n",
    "\n",
    "* Plot their distributions for 2011 and describe them. Identify their their mean and median.\n",
    "* Repeat this for 2016. Has the result changed?"
   ]
  },
  {
   "cell_type": "code",
   "execution_count": 138,
   "metadata": {
    "colab": {},
    "colab_type": "code",
    "id": "GneWWgFVt62N"
   },
   "outputs": [
    {
     "data": {
      "text/plain": [
       "array(['72.4', '54.6', '82.3', '29.5', '70.3', '77.7', '77.2', '39.6',\n",
       "       '90.0', '59.2', '48.1', '62.8', '58.5', '62.4', '93.7', '53.3',\n",
       "       '-', '90.9', '32.9', '39.1', '91.4', '90.8', '49.0', '49.4',\n",
       "       '60.5', '18.4', '73.2', '32.6', '64.3', '93.3', '21.5', '31.6',\n",
       "       '55.9', '97.8', '85.9', '88.0', '68.6', '56.4', '77.9', '67.3',\n",
       "       '97.4', '44.9', '93.9', '44.5', '31.2', '100.0', '66.3', '22.1',\n",
       "       '23.0', '28.3', '22.6', '43.0', '38.1', '31.8', '52.3', '43.1',\n",
       "       '35.6', '25.2', '56.5', '64.0', '31.7', '67.2', '16.7', '89.6',\n",
       "       '42.2', '87.5', '20.9', '84.2', '52.2', '36.7', '72.8', '74.2',\n",
       "       '63.4', '22.5', '65.7', '79.1', '92.9', '56.8', '69.0', '87.9',\n",
       "       '24.4', '87.0', '21.9', '91.3', '35.4', '31.0', '37.6', '85.3',\n",
       "       '24.2', '85.7', '48.0', '26.8', '62.6', '34.1', '83.3', '19.9',\n",
       "       '71.8', '24.8', '29.2', '63.0', '95.7', '29.6', '50.2', '91.0',\n",
       "       '30.4', '24.7', '73.8', '40.0', '71.6', '55.1', '20.1', '46.2',\n",
       "       '66.6', '84.1', '62.7', '30.6', '30.7', '54.4', '22.3', '52.6',\n",
       "       '24.3', '94.3', '19.3', '82.9', '86.1', '47.4', '88.5', '80.5',\n",
       "       '70.7', '44.1', '37.7', '23.2', '58.6', '16.8', '24.1', '21.3',\n",
       "       '38.2', '59.8', '33.4', '50.0', '40.3', '35.5', '29.3', '56.1',\n",
       "       '96.3', '74.8', '45.8', '46.1', '87.1', '46.8', '57.9', '63.8',\n",
       "       '27.2', '93.6', '47.3', '99.5', '57.8', '60.6', '18.9', '28.0',\n",
       "       '64.2', '63.2', '15.9', '51.8', '51.9', '56.0', '67.5', '57.2',\n",
       "       '91.9', '49.6', '79.2', '92.2', '58.8', '50.4', '55.5', '67.6',\n",
       "       '41.0', '59.9', '97.5', '34.3', '91.8', '47.2', '53.4', '55.0',\n",
       "       '46.9', '88.7', '65.0', '36.9', '35.3', '23.8', '81.4', '38.8',\n",
       "       '50.7', '82.0', '31.5', '83.7', '79.8', '82.5', '93.8', '51.4',\n",
       "       '93.0', '45.7', '25.6', '20.2', '54.3', '98.9', '80.4', '51.7',\n",
       "       '21.1', '25.0', '37.2', '41.1', '88.1', '26.5', '66.2', '87.4',\n",
       "       '80.1', '27.3', '72.0', '73.7', '56.7', '58.1', '39.7', '62.3',\n",
       "       '80.8', '37.3', '75.9', '41.3', '30.8', '61.2', '25.3', '75.8',\n",
       "       '66.7', '89.1', '36.3', '59.1', '65.2', '33.1', '29.9', '34.0',\n",
       "       '28.4', '71.9', '68.2', '68.1', '73.9', '71.3', '79.5', '24.9',\n",
       "       '64.5', '29.8', '92.4', '77.6', '23.3', '86.7', '89.4', '53.0',\n",
       "       '16.3', '69.3', '25.9', '26.1', '88.8', '78.3', '78.6', '48.8',\n",
       "       '64.8', '38.3', '26.4', '29.1', '86.6', '72.6', '30.0', '32.7',\n",
       "       '68.5', '76.2', '19.7', '69.5', '62.1', '84.8', '20.7', '73.4',\n",
       "       '85.5', '83.2', '17.2', '36.0', '75.1', '30.1', '67.1', '89.8',\n",
       "       '72.5', '30.3', '85.1', '62.5', '70.5', '22.9', '57.6', '73.1',\n",
       "       '63.9', '82.1', '55.6', '73.5', '14.8', '61.6', '63.7', '41.4',\n",
       "       '64.9', '86.4', '84.9', '56.2', '56.6', '81.6', '54.5', '83.6',\n",
       "       '49.7', '55.3', '54.7', '42.3', '66.1', '57.3', '89.0', '53.8',\n",
       "       '33.8', '47.6', '65.1', '42.1', '27.6', '92.3', '78.9', '58.3',\n",
       "       '81.7', '34.2', '98.8', '38.7', '44.3', '54.1', '28.7', '28.8',\n",
       "       '46.3', '39.2', '26.3', '43.4', '86.0', '27.0', '34.9', '83.0',\n",
       "       '54.8', '78.1', '77.8', '31.1', '51.0', '59.0', '29.4', '67.7',\n",
       "       '61.3', '36.6', '64.4', '57.0', '74.6', '90.5', '66.9', '49.8',\n",
       "       '34.7', '49.1', '36.8', '41.6', '35.2', '40.4', '31.3', '57.5',\n",
       "       '66.4', '27.9', '45.9', '61.5', '56.3', '27.5', '86.3', '48.3',\n",
       "       '84.5', '76.7', '69.8', '85.2', '92.5', '70.1', '32.5', '80.9',\n",
       "       '60.9', '82.7', '77.4', '95.3', '24.6', '50.3', '32.0', '69.7',\n",
       "       '47.1', '54.9', '23.6', '27.4', '77.0', '52.4', '77.3', '74.1',\n",
       "       '53.9', '39.5', '24.5', '52.8', '66.8', '61.0', '54.0', '82.2',\n",
       "       '68.9', '74.4', '51.2', '25.8', '76.5', '88.4', '19.0', '30.5',\n",
       "       '65.9', '65.8', '90.2', '68.0', '59.6', '46.4', '96.7', '59.3',\n",
       "       '40.6', '49.5', '70.0', '34.4', '43.2', '42.4', '67.8', '32.3',\n",
       "       '61.8', '81.3', '98.2', '81.5', '41.8', '44.6', '80.3', '35.0',\n",
       "       '33.7', '44.2', '42.6', '53.7', '79.7', '51.5', '91.1', '49.2',\n",
       "       '75.0', '76.8', '58.7', '63.1', '28.6', '47.5', '36.4', '65.5',\n",
       "       '40.5', '51.3', '92.6', '31.4', '38.0', '68.7', '75.6', '30.2',\n",
       "       '62.0', '83.5', '86.2', '67.4', '32.1', '30.9', '39.4', '81.2',\n",
       "       '25.5', '62.2', '76.0', '72.2', '61.9', '57.1', '63.3', '78.5',\n",
       "       '43.6', '79.6', '50.6', '61.1', '88.6', '89.5', '37.1', '72.3',\n",
       "       '55.4', '77.5', '67.0', '23.7', '54.2', '48.5', '52.9', '43.3',\n",
       "       '70.6', '76.3', '90.7', '87.8', '84.3', '92.7', '96.6', '68.3',\n",
       "       '59.7', '43.8', '50.5', '71.2', '90.6', '32.4', '94.9', '47.9',\n",
       "       '43.9', '33.6', '41.2', '79.0', '37.0', '46.5', '81.9', '47.8',\n",
       "       '37.4', '29.0', '94.5', '50.1', '59.5', '70.8', '78.7', '76.6',\n",
       "       '91.2', '42.7', '55.7', '51.1', '32.2', '42.9', '69.4', '78.8',\n",
       "       '53.2', '89.7', '64.7', '86.9', '96.8', '94.4', '84.0', '84.7',\n",
       "       '80.7', '44.8', '82.4', '44.7', '83.9', '35.8', '87.3', '79.3',\n",
       "       '60.1', '29.7', '60.3', '60.4', '55.8', '39.9', '91.5', '96.0',\n",
       "       '97.9', '96.2', '49.3', '98.6', '71.5', '58.4', '33.0', '94.6',\n",
       "       '84.4', '66.5', '89.3', '39.0', '76.1', '69.2', '87.6', '40.8',\n",
       "       '85.8', '58.2', '33.9', '90.3', '95.5', '63.6', '52.7', '93.5',\n",
       "       '94.7', '92.8', '90.4', '64.6', '43.5', '80.2', '33.3', '47.0',\n",
       "       '98.5', '81.1', '88.3', '48.9', '80.6', '45.6', '89.2', '53.1',\n",
       "       '85.4', '47.7', '38.6', '28.5', '27.7', '45.2', '50.9', '31.9',\n",
       "       '60.0', '99.8', '93.4'], dtype=object)"
      ]
     },
     "execution_count": 138,
     "metadata": {},
     "output_type": "execute_result"
    }
   ],
   "source": [
    "df_times2.international.unique()"
   ]
  },
  {
   "cell_type": "code",
   "execution_count": 139,
   "metadata": {},
   "outputs": [],
   "source": [
    "df_times2['international'] = df_times2['international'].str.replace('-','')"
   ]
  },
  {
   "cell_type": "code",
   "execution_count": 142,
   "metadata": {},
   "outputs": [],
   "source": [
    "df_times2 = df_times2[df_times2.international != '']"
   ]
  },
  {
   "cell_type": "code",
   "execution_count": 143,
   "metadata": {},
   "outputs": [],
   "source": [
    "df_times2.international = df_times2.international.astype(float)"
   ]
  },
  {
   "cell_type": "code",
   "execution_count": 144,
   "metadata": {},
   "outputs": [
    {
     "data": {
      "text/plain": [
       "array(['United States of America', 'United Kingdom', 'Switzerland',\n",
       "       'Hong Kong', 'Japan', 'South Korea', 'Canada', 'Singapore',\n",
       "       'Australia', 'China', 'France', 'Germany', 'Republic of Ireland',\n",
       "       'Sweden', 'Finland', 'Taiwan', 'South Africa', 'Netherlands',\n",
       "       'Belgium', 'Denmark', 'Norway', 'Spain', 'New Zealand', 'Egypt',\n",
       "       'Turkey', 'Austria', 'Israel', 'Brazil', 'Italy',\n",
       "       'Russian Federation', 'Luxembourg'], dtype=object)"
      ]
     },
     "execution_count": 144,
     "metadata": {},
     "output_type": "execute_result"
    }
   ],
   "source": [
    "df_times2.country.unique()"
   ]
  },
  {
   "cell_type": "code",
   "execution_count": 145,
   "metadata": {},
   "outputs": [],
   "source": [
    "df_times2_US = df_times2[df_times2.country == 'United States of America']"
   ]
  },
  {
   "cell_type": "code",
   "execution_count": 146,
   "metadata": {},
   "outputs": [],
   "source": [
    "df_times2_nonUS = df_times2[df_times2.country != 'United States of America']"
   ]
  },
  {
   "cell_type": "code",
   "execution_count": 152,
   "metadata": {},
   "outputs": [],
   "source": [
    "def YearPlots(yr):\n",
    "    df1 = df_times2_US[df_times2_US.year == yr]\n",
    "    df2 = df_times2_nonUS[df_times2_nonUS.year == yr]\n",
    "    multiplePlots(df1.international)\n",
    "    print('The mean for US univerisities international scores in year {} is {}, the median is {}'.format(yr, round(np.mean(df1.international),2), round(np.median(df1.international),2)))\n",
    "    \n",
    "    multiplePlots(df2.international)\n",
    "    print('The mean for nonUS univerisities international scores in year {} is {}, the median is {}'.format(yr, round(np.mean(df2.international),2), round(np.median(df2.international),2)))"
   ]
  },
  {
   "cell_type": "code",
   "execution_count": 153,
   "metadata": {},
   "outputs": [
    {
     "name": "stderr",
     "output_type": "stream",
     "text": [
      "C:\\Users\\YING\\Anaconda3\\lib\\site-packages\\scipy\\stats\\stats.py:1713: FutureWarning: Using a non-tuple sequence for multidimensional indexing is deprecated; use `arr[tuple(seq)]` instead of `arr[seq]`. In the future this will be interpreted as an array index, `arr[np.array(seq)]`, which will result either in an error or a different result.\n",
      "  return np.add.reduce(sorted[indexer] * weights, axis=axis) / sumval\n"
     ]
    },
    {
     "name": "stdout",
     "output_type": "stream",
     "text": [
      "The mean for US univerisities international scores in year 2011 is 42.7, the median is 39.1\n",
      "The mean for nonUS univerisities international scores in year 2011 is 61.25, the median is 63.0\n"
     ]
    },
    {
     "data": {
      "image/png": "[encoded data removed]",
      "text/plain": [
       "<Figure size 432x288 with 4 Axes>"
      ]
     },
     "metadata": {
      "needs_background": "light"
     },
     "output_type": "display_data"
    },
    {
     "data": {
      "image/png": "[encoded data removed]",
      "text/plain": [
       "<Figure size 432x288 with 4 Axes>"
      ]
     },
     "metadata": {
      "needs_background": "light"
     },
     "output_type": "display_data"
    }
   ],
   "source": [
    "YearPlots(2011)"
   ]
  },
  {
   "cell_type": "code",
   "execution_count": 154,
   "metadata": {},
   "outputs": [
    {
     "name": "stderr",
     "output_type": "stream",
     "text": [
      "C:\\Users\\YING\\Anaconda3\\lib\\site-packages\\scipy\\stats\\stats.py:1713: FutureWarning: Using a non-tuple sequence for multidimensional indexing is deprecated; use `arr[tuple(seq)]` instead of `arr[seq]`. In the future this will be interpreted as an array index, `arr[np.array(seq)]`, which will result either in an error or a different result.\n",
      "  return np.add.reduce(sorted[indexer] * weights, axis=axis) / sumval\n"
     ]
    },
    {
     "name": "stdout",
     "output_type": "stream",
     "text": [
      "The mean for US univerisities international scores in year 2016 is 51.9, the median is 51.2\n",
      "The mean for nonUS univerisities international scores in year 2016 is 73.42, the median is 78.1\n"
     ]
    },
    {
     "data": {
      "image/png": "[encoded data removed]",
      "text/plain": [
       "<Figure size 432x288 with 4 Axes>"
      ]
     },
     "metadata": {
      "needs_background": "light"
     },
     "output_type": "display_data"
    },
    {
     "data": {
      "image/png": "[encoded data removed]",
      "text/plain": [
       "<Figure size 432x288 with 4 Axes>"
      ]
     },
     "metadata": {
      "needs_background": "light"
     },
     "output_type": "display_data"
    }
   ],
   "source": [
    "YearPlots(2016)"
   ]
  },
  {
   "cell_type": "markdown",
   "metadata": {
    "colab_type": "text",
    "id": "WlWYu2_5uY7K"
   },
   "source": [
    "### Year 2011\n",
    "#### US Universities' international scores\n",
    "* They seem to be bimodal distributed as the histogram shows, with the two modes at about 25 and 60. The QQ plot shows that it is not normal distribution.\n",
    "* The mean is 42.7, the mode is 39.1.\n",
    "\n",
    "#### Non-US Universities' international scores\n",
    "* They seem to be uniformly distributed between 20 and 100 as the histogram shows. The QQ plot shows that it is not normal distribution.\n",
    "* The mean is 61.25, the mode is 63.\n",
    "\n",
    "### Year 2016\n",
    "### The result clearly changed.\n",
    "#### US Universities' international scores\n",
    "* They are likely to be normally distributed as the histogram and the QQ plot show. But the lag plot shows a clear pattern, which means the data set seems not randomly chosen. \n",
    "* The mean is 51.9, the mode is 51.2.\n",
    "\n",
    "#### Non-US Universities' international scores\n",
    "* They are left-skewed distributed the histogram shows. The QQ plot shows that it is not normal distribution.\n",
    "* The mean is 73.42, the mode is 78.1."
   ]
  },
  {
   "cell_type": "markdown",
   "metadata": {
    "colab_type": "text",
    "id": "0u5VM5ksbCTm"
   },
   "source": [
    "### Q4. For 10 Points: Using the data for the CWUR rankings, investigate how the rankings change over time.\n",
    "\n",
    "* Which universities consistently appear in the rankings, and which aren't?\n",
    "* Which universities are rising, falling, or stationary in rank over the years?\n",
    "* Plot the results, and explain your answers\n",
    "\n",
    "It might be more intuitive to compare the scores rather than the ranks directly. Feel free to do this if it's the case."
   ]
  },
  {
   "cell_type": "code",
   "execution_count": 155,
   "metadata": {
    "colab": {},
    "colab_type": "code",
    "id": "U5jIdE3_t7YA"
   },
   "outputs": [
    {
     "data": {
      "text/plain": [
       "world_rank                int64\n",
       "institution              object\n",
       "country                  object\n",
       "national_rank             int64\n",
       "quality_of_education      int64\n",
       "alumni_employment         int64\n",
       "quality_of_faculty        int64\n",
       "publications              int64\n",
       "influence                 int64\n",
       "citations                 int64\n",
       "broad_impact            float64\n",
       "patents                   int64\n",
       "score                   float64\n",
       "year                      int64\n",
       "dtype: object"
      ]
     },
     "execution_count": 155,
     "metadata": {},
     "output_type": "execute_result"
    }
   ],
   "source": [
    "df_cwur2.dtypes"
   ]
  },
  {
   "cell_type": "code",
   "execution_count": 158,
   "metadata": {},
   "outputs": [
    {
     "data": {
      "text/plain": [
       "array([2012, 2013, 2014, 2015], dtype=int64)"
      ]
     },
     "execution_count": 158,
     "metadata": {},
     "output_type": "execute_result"
    }
   ],
   "source": [
    "df_cwur2.year.unique()"
   ]
  },
  {
   "cell_type": "code",
   "execution_count": 177,
   "metadata": {},
   "outputs": [],
   "source": [
    "df_cwur2_2012 = df_cwur2[df_cwur2.year == 2012]\n",
    "df_cwur2_2013 = df_cwur2[df_cwur2.year == 2013]\n",
    "df_cwur2_2014 = df_cwur2[df_cwur2.year == 2014]\n",
    "df_cwur2_2015 = df_cwur2[df_cwur2.year == 2015]"
   ]
  },
  {
   "cell_type": "code",
   "execution_count": 200,
   "metadata": {},
   "outputs": [],
   "source": [
    "df2_3 = df_cwur2_2012.merge(df_cwur2_2013, on = 'institution', how = 'inner')\n",
    "df2_3_4 = df2_3.merge(df_cwur2_2014, on = 'institution', how = 'inner')\n",
    "df2_3_4_5 = df2_3_4.merge(df_cwur2_2015, on = 'institution', how = 'inner')\n",
    "consistent_uni = df2_3_4_5.institution.unique().tolist()"
   ]
  },
  {
   "cell_type": "code",
   "execution_count": 202,
   "metadata": {},
   "outputs": [
    {
     "data": {
      "text/plain": [
       "['Harvard University',\n",
       " 'Massachusetts Institute of Technology',\n",
       " 'Stanford University',\n",
       " 'University of Cambridge',\n",
       " 'California Institute of Technology',\n",
       " 'Princeton University',\n",
       " 'University of Oxford',\n",
       " 'Yale University',\n",
       " 'Columbia University',\n",
       " 'University of California, Berkeley',\n",
       " 'University of Chicago',\n",
       " 'Cornell University',\n",
       " 'University of Pennsylvania',\n",
       " 'University of Tokyo',\n",
       " 'Johns Hopkins University',\n",
       " 'Swiss Federal Institute of Technology in Zurich',\n",
       " 'Kyoto University',\n",
       " 'Weizmann Institute of Science',\n",
       " 'University of California, Los Angeles',\n",
       " 'University of California, San Diego',\n",
       " 'Rockefeller University',\n",
       " 'Hebrew University of Jerusalem',\n",
       " 'New York University',\n",
       " 'University of California, San Francisco',\n",
       " 'University of Wisconsin–Madison',\n",
       " 'University of Illinois at Urbana–Champaign',\n",
       " 'Duke University',\n",
       " 'Imperial College London',\n",
       " 'University of Texas Southwestern Medical Center',\n",
       " 'University of Texas at Austin',\n",
       " 'University College London',\n",
       " 'Osaka University',\n",
       " 'Northwestern University',\n",
       " 'University of Michigan, Ann Arbor',\n",
       " 'University of Toronto',\n",
       " 'University of North Carolina at Chapel Hill',\n",
       " 'Washington University in St. Louis',\n",
       " 'University of Utah',\n",
       " 'University of Washington - Seattle',\n",
       " 'University of California, Santa Barbara',\n",
       " 'McGill University',\n",
       " 'Purdue University, West Lafayette',\n",
       " 'Carnegie Mellon University',\n",
       " 'University of Southern California',\n",
       " 'University of California, Davis',\n",
       " 'University of Colorado Boulder',\n",
       " 'University of California, Irvine',\n",
       " 'University of Paris-Sud',\n",
       " 'University of Minnesota, Twin Cities',\n",
       " 'University of Arizona',\n",
       " 'Technion – Israel Institute of Technology',\n",
       " 'Ohio State University, Columbus',\n",
       " 'University of Rochester',\n",
       " 'École normale supérieure - Paris',\n",
       " 'University of Florida',\n",
       " 'Tel Aviv University',\n",
       " 'Rice University',\n",
       " 'Dartmouth College',\n",
       " 'Vanderbilt University',\n",
       " 'University of Edinburgh',\n",
       " 'École Polytechnique',\n",
       " 'Boston University',\n",
       " 'Pierre-and-Marie-Curie University',\n",
       " 'Pennsylvania State University, University Park',\n",
       " 'University of Geneva',\n",
       " 'Brown University',\n",
       " 'University of British Columbia',\n",
       " 'University of Maryland, College Park',\n",
       " 'Swiss Federal Institute of Technology in Lausanne',\n",
       " 'Karolinska Institute',\n",
       " 'University of Pittsburgh - Pittsburgh Campus',\n",
       " 'Rutgers University-New Brunswick',\n",
       " 'Texas A&M University, College Station',\n",
       " 'Nagoya University',\n",
       " 'Seoul National University',\n",
       " 'University of Manchester',\n",
       " 'Sapienza University of Rome',\n",
       " 'Tohoku University',\n",
       " 'Arizona State University',\n",
       " 'Emory University',\n",
       " 'Ruprecht Karl University of Heidelberg',\n",
       " 'Ludwig Maximilian University of Munich',\n",
       " 'University of Virginia',\n",
       " 'Georgia Institute of Technology',\n",
       " 'University of Zurich',\n",
       " 'University of Helsinki',\n",
       " 'University of Oslo',\n",
       " 'University of Copenhagen',\n",
       " 'University of Sydney',\n",
       " 'University of Texas MD Anderson Cancer Center',\n",
       " 'Utrecht University']"
      ]
     },
     "execution_count": 202,
     "metadata": {},
     "output_type": "execute_result"
    }
   ],
   "source": [
    "consistent_uni"
   ]
  },
  {
   "cell_type": "code",
   "execution_count": 201,
   "metadata": {},
   "outputs": [
    {
     "data": {
      "text/plain": [
       "91"
      ]
     },
     "execution_count": 201,
     "metadata": {},
     "output_type": "execute_result"
    }
   ],
   "source": [
    "len(consistent_uni)"
   ]
  },
  {
   "cell_type": "code",
   "execution_count": 194,
   "metadata": {},
   "outputs": [
    {
     "name": "stdout",
     "output_type": "stream",
     "text": [
      "['Case Western Reserve University', 'Leiden University', 'Tufts University', 'Technical University of Munich', 'University of Queensland', 'Williams College', 'University of Nottingham', 'University of Bristol', 'Mines ParisTech', 'Keio University', \"King's College London\", 'Indiana University - Bloomington', 'National University of Singapore', 'Stony Brook University', 'Lomonosov Moscow State University', 'Australian National University', 'University of Alberta', 'Paris Diderot University - Paris 7', 'Keio University', 'Waseda University', 'Lomonosov Moscow State University', 'Peking University', 'University of Notre Dame', 'National Taiwan University', 'National University of Singapore', 'Tufts University', 'Tsinghua University', \"King's College London\", 'Kyushu University', 'Katholieke Universiteit Leuven', 'Tokyo Institute of Technology', 'University of Melbourne', 'University of Bonn', 'Technical University of Munich', 'Royal Institute of Technology', 'Erasmus University Rotterdam', 'Case Western Reserve University', 'University of Alberta', 'Yonsei University', 'Michigan State University', 'Indiana University - Bloomington', 'University of the Witwatersrand', 'University of Queensland', 'Lund University', 'Leiden University', 'Georgetown University', 'Aarhus University', 'University of Barcelona', 'Baylor College of Medicine', 'University of Amsterdam', 'University of Bristol', 'Uppsala University', 'University of Iowa', 'Stony Brook University', 'University of Groningen', 'Korea Advanced Institute of Science and Technology (KAIST)', 'Radboud University Nijmegen', 'Korea University', 'University of São Paulo', 'University of Colorado Denver', 'University of Montreal', 'Albert Ludwig University of Freiburg', 'Ghent University', 'University of Glasgow', 'University of Miami', 'Université libre de Bruxelles', 'Paris Diderot University - Paris 7', 'McMaster University', 'University of Birmingham', 'University of Texas at Dallas', 'VU University Amsterdam', 'Wake Forest University', 'University of Southampton', 'University of Nottingham', 'Nanyang Technological University', 'University of New South Wales', 'Osaka City University', 'University of Leeds', 'Western University (The University of Western Ontario)', 'Kobe University', 'University of Basel', 'University of Hong Kong', 'Indiana University-Purdue University Indianapolis', 'Humboldt University of Berlin', 'Free University of Berlin', 'University of Tübingen', 'Australian National University', 'Goethe University Frankfurt', 'University of Houston', 'University of California, Santa Cruz', 'University of Alabama at Birmingham', 'Icahn School of Medicine at Mount Sinai', 'University of Calgary', 'Mines ParisTech', 'University of Gothenburg', 'University of Göttingen', 'Monash University', 'Southern Methodist University', 'Yeshiva University', 'University of South Florida - Tampa', 'Hanyang University', 'Oregon Health & Science University', 'University of Strasbourg', 'University of Cincinnati', 'University of Sheffield', 'University of Hamburg', 'George Washington University', 'University of Milan', 'Iowa State University', 'University of Maryland, Baltimore', 'University of Padua', 'University of New Mexico', 'Pohang University of Science and Technology', 'Stockholm University', 'Hokkaido University', 'Fudan University', 'University of Sussex', 'Université catholique de Louvain', 'Wayne State University', 'University of Massachusetts Medical School', 'University of Lausanne', 'Shanghai Jiao Tong University', 'University of Missouri–Columbia', 'Technical University of Denmark', 'Complutense University of Madrid', 'University of Cologne', 'Trinity College, Dublin', 'University of Bern', 'Chinese University of Hong Kong', 'University of Kansas', 'Sungkyunkwan University', 'University of Vienna', 'Zhejiang University', 'University of Georgia', 'University of Massachusetts Amherst', 'Cardiff University', 'University of Münster', 'University of Liverpool', 'University of Ottawa', 'University of Erlangen-Nuremberg', 'Queen Mary University of London', 'Karlsruhe Institute of Technology', 'Louisiana State University - Baton Rouge', 'Nanjing University', 'University of Illinois at Chicago', 'University of Bologna', 'University of Manitoba', 'Joseph Fourier University', 'University of California, Riverside', \"Julius-Maximilian's University of Würzburg\", 'Aix-Marseille University', 'University of Western Australia', 'Laval University', 'University of Tennessee, Knoxville', 'North Carolina State University', 'Newcastle University', 'Claude Bernard University Lyon 1', 'University of Turin', 'University of Kiel', 'University of Connecticut', 'Tulane University', 'University of Oklahoma - Norman Campus', 'Brandeis University', 'Dresden University of Technology', 'RWTH Aachen University', 'University of Texas Health Science Center at San Antonio', 'Virginia Commonwealth University', 'University of Montpellier 2', 'Dalian University of Technology', 'Rensselaer Polytechnic Institute', 'Paul Sabatier University - Toulouse III', 'Paris Descartes University', 'National Cheng Kung University', 'University of Delaware', 'Vrije Universiteit Brussel', 'Johannes Gutenberg University of Mainz', 'Maastricht University', 'University of Düsseldorf', 'University of Dundee', 'University of Tsukuba', 'Autonomous University of Barcelona', 'Florida State University', 'University of Texas at San Antonio', 'London School of Hygiene & Tropical Medicine', 'Lehigh University', 'University of Kentucky', 'Thomas Jefferson University', 'Drexel University', 'Colorado State University - Fort Collins', 'University of Leicester', 'Durham University', 'Oregon State University', 'University of Florence', 'University of Cape Town', 'University at Buffalo, The State University of New York', 'University College Dublin', 'University of Science and Technology of China', 'Virginia Polytechnic Institute and State University', 'University of Naples Federico II', 'University of Auckland', 'University of Texas Health Science Center at Houston', 'Delft University of Technology', 'University of Aberdeen', \"Queen's University\", 'University of Lisbon', 'Hiroshima University', 'University of Waterloo', 'Okayama University', 'University of Ulm', 'Chulalongkorn University', 'Dalhousie University', 'Saint Petersburg State University', 'Norwegian University of Science and Technology', 'University of Reading', 'Wageningen University and Research Centre', 'Umeå University', 'University of Porto', 'Hong Kong University of Science and Technology', 'Sun Yat-sen University', 'Medical College of Wisconsin', 'City College of New York', 'Hannover Medical School', 'Washington State University, Pullman', 'Technical University of Berlin', 'University of South Carolina - Columbia', 'Leipzig University', 'University of Stuttgart', 'University of Valencia', 'Linköping University', 'University of Duisburg-Essen', 'Ruhr University Bochum', 'University of Bergen', 'London School of Economics', 'Wesleyan University', 'University of Pisa', 'Autonomous University of Madrid', 'Medical University of Vienna', 'Stellenbosch University', 'Medical University of South Carolina', 'Charles University in Prague', 'Kyungpook National University', 'University of Science, Malaysia', 'University of Liège', 'University of Hull', 'Northeastern University', 'Kansas State University', 'University of Vermont', 'Rush University', 'University of Louisville', 'University of St Andrews', 'University of Warwick', 'University of Rome Tor Vergata', 'University of Innsbruck', 'Darmstadt University of Technology', 'Indian Institute of Technology Delhi', 'Federal University of Rio de Janeiro', 'University of Antwerp', 'National and Kapodistrian University of Athens', 'Boston College', 'Vita-Salute San Raffaele University', 'Gwangju Institute of Science and Technology', 'University of Nebraska–Lincoln', 'University of York', 'National Autonomous University of Mexico', 'University of Regensburg', 'Yokohama National University', 'University of Adelaide', 'University of Genoa', \"Queen's University Belfast\", 'University of Marburg', 'University of Pavia', \"St George's, University of London\", 'University of Oregon', 'University of Navarra', 'San Diego State University', 'Nankai University', 'University of East Anglia', 'University of Nebraska Medical Center', 'University of Southern Denmark', 'Eindhoven University of Technology', 'Xiamen University', 'University of Otago', 'University of Santiago de Compostela', 'University of Exeter', 'University of Jena', 'University of Perugia', 'Justus Liebig University Giessen', 'College of William and Mary', 'Ben-Gurion University of the Negev', 'Saint Louis University', 'Colorado School of Mines', 'Oklahoma State University–Stillwater', 'University of Guelph', 'University of Trieste', 'University of Verona', 'University at Albany, SUNY', 'Tongji University', 'Eötvös Loránd University', 'University of Alabama - Tuscaloosa', 'University of Eastern Finland', 'Ewha Womans University', 'City University of Hong Kong', 'Tokyo Medical and Dental University', 'University of Victoria', 'University of Buenos Aires', 'University of Texas Medical Branch at Galveston', 'Kyung Hee University', 'Hong Kong Polytechnic University', 'Saarland University', 'Scuola Normale Superiore di Pisa', 'University of Seville', 'Beijing Normal University', 'Chiba University', 'University of Ferrara', 'University of Bari Aldo Moro', 'Polytechnic University of Milan', 'Temple University', 'University of Turku', 'Aalto University', 'Simon Fraser University', 'Tianjin University', 'Chalmers University of Technology', 'Middle East Technical University', 'Cranfield University', 'York University', \"Xi'an Jiaotong University\", 'Chonnam National University', 'University of Central Florida', 'University of Lorraine', 'University of Bordeaux II', 'University of New Hampshire', 'Versailles Saint-Quentin-en-Yvelines University', 'Chonbuk National University', 'Kumamoto University', 'Huazhong University of Science and Technology', 'Brunel University', 'Polytechnic University of Catalonia', 'National Chiao Tung University', 'Southeast University', 'Tokyo University of Science', 'Catholic University of the Sacred Heart', 'Brigham Young University', 'Technical University of Madrid', 'Nagasaki University', 'National Tsing Hua University', 'University of Warsaw', 'King Saud University', 'University of Bath', 'Concordia University', 'Georgia Regents University', 'Niigata University', 'University of Oulu', 'Pompeu Fabra University', 'Vienna University of Technology', 'Sogang University', 'Gyeongsang National University', 'University of Tampere', 'University of Milan - Bicocca', 'University of Bordeaux I', 'Swedish University of Agricultural Sciences', 'George Mason University', 'Jilin University', 'University of Delhi', 'University of Campinas', 'Wuhan University', 'West Virginia University', 'Pusan National University', 'University of Mississippi - Oxford Campus', 'University of Arkansas for Medical Sciences', 'Miami University', 'University of Tokushima', 'University of Twente', 'Loyola University Chicago', 'Ajou University', 'Syracuse University', 'Lancaster University', 'Pontifical Catholic University of Chile', 'University of Chile', 'Innsbruck Medical University', 'University of Granada', 'Kanazawa University', 'University of Parma', 'University of Siena', 'Shandong University', 'Technical University of Dortmund', 'University of KwaZulu-Natal', 'University of Nevada, Reno', 'Yokohama City University', 'École normale supérieure de Lyon', 'University College Cork', 'Ohio University', 'Central South University', 'University of Modena and Reggio Emilia', 'New Mexico State University', 'University of Konstanz', 'University of Hawaii at Manoa', 'University of Nebraska Omaha', 'Shinshu University', 'University of Strathclyde', 'Baylor University', 'Polytechnic University of Valencia', 'Harbin Institute of Technology', 'University of Rennes 1', 'University of Arkansas - Fayetteville', 'Aristotle University of Thessaloniki', 'Jagiellonian University', 'Texas Tech University (TTU)', 'University of Rostock', 'University of Akron', 'University of Saskatchewan', 'Juntendo University', 'University of Wyoming', 'Macquarie University', 'University of Canterbury', 'University of Denver', 'Illinois Institute of Technology', 'Creighton University', 'Bielefeld University', 'University of Malaya', 'University of Ulsan', 'City University London', 'Grenoble Institute of Technology', 'Federal University of Minas Gerais', 'University of Hanover', 'South China University of Technology', 'University of Surrey', 'Otto-von-Guericke University Magdeburg', 'Indian Institute of Science', 'Tokyo Metropolitan University', 'Bar-Ilan University', 'Mississippi State University', 'University of Maryland, Baltimore County', 'University of Wollongong', 'Flinders University', 'Martin Luther University of Halle-Wittenberg', 'Graduate University for Advanced Studies', 'Clemson University', 'University of Brescia', 'Georgia State University', 'Dongguk University', 'University of Fribourg', 'Sichuan University', 'University of Iceland', 'University of Sherbrooke', 'University of Graz', 'University of Málaga', 'University of Zaragoza', 'New York Medical College', 'SUNY Downstate Medical Center', 'École Centrale Paris', 'Utah State University', 'University of Ljubljana', 'University of Montpellier 1', 'Victoria University of Wellington', 'East China University of Science and Technology', 'Konkuk University', 'University of Potsdam', 'University of the Basque Country', 'University of Nice Sophia Antipolis', 'University of Udine', 'National Yang-Ming University', 'Indian Institute of Technology Bombay', 'University of Bayreuth', 'University of Wisconsin–Milwaukee', 'University of Dayton', 'Nihon University', 'Montana State University - Bozeman', 'Royal Holloway, University of London', \"Tokyo Women's Medical University\", 'Panjab University', 'Tampere University of Technology', 'University of Coimbra', 'University of Newcastle', 'Nara Institute of Science and Technology', 'Auburn University', 'University of Bremen', 'Mahidol University', 'University of Crete', 'Bangor University', 'University of Aveiro', 'University of Palermo', 'Nagoya City University', 'University of Tartu', 'University of Savoy', 'University of Tromsø - The Arctic University of Norway', 'University of Missouri–Kansas City', 'Beihang University', 'American University of Beirut', 'University of Nantes', 'University of Essex', 'University of Zagreb', 'National Central University', 'University Lille 1: Sciences and Technologies', 'University of Catania', 'National Polytechnic Institute of Toulouse', 'Indian Institute of Technology Kanpur', 'Kagoshima University', 'Lanzhou University', 'James Cook University', 'Shizuoka University', 'Indian Institute of Technology Kharagpur', 'Second University of Naples', 'Indian Institute of Technology Madras', 'Plymouth University', 'International School for Advanced Studies', 'Polytechnic University of Turin', 'University of Oviedo', 'Ehime University', 'University of Ioannina', 'University of Cagliari', 'Tottori University', 'Federal University of Rio Grande do Sul', 'Kent State University', 'University of Los Andes (Colombia)', 'Hunan University', 'Tokai University', 'LSU Health Sciences Center New Orleans', 'Southern Illinois University Carbondale', 'Tata Institute of Fundamental Research', 'Aalborg University', 'Osaka Prefecture University', 'Chang Gung University', 'Northern Illinois University', 'University of Trento', 'Semmelweis University', 'University of Science and Technology Beijing', 'National University of Ireland, Galway', 'Dankook University', 'Istanbul University', 'Tokyo University of Agriculture and Technology', 'University of Montana - Missoula', 'Queensland University of Technology', 'Binghamton University', 'Université de Namur', 'University of Tasmania', 'University of Pretoria', 'Central China Normal University', 'Indian Institute of Technology Roorkee', 'Curtin University', 'Deakin University', 'Tilburg University', 'Inha University', 'University of New Orleans', 'Paris-Est Créteil Val-de-Marne University', \"University of L'Aquila\", 'Chungnam National University', 'University of Salamanca', 'University of Alaska Fairbanks', 'University of Poitiers', 'Albany Medical College', 'Birkbeck, University of London', 'Griffith University', 'Federal University of São Paulo', 'Carleton University', 'Massey University', 'Catholic University of Korea', 'Open University (UK)', 'University of Patras', 'Universidade Nova de Lisboa', 'Texas A&M Health Science Center', 'Braunschweig University of Technology', 'National Chung Hsing University', 'La Trobe University', 'Missouri University of Science and Technology', 'University of Idaho', 'Louisiana Tech University', 'University of Portsmouth', 'University of La Laguna', 'Florida International University', 'Medical University of Graz', 'Howard University', 'University of Hertfordshire', 'State University of New York Upstate Medical University', 'Royal College of Surgeons in Ireland', 'National Technical University of Athens', 'University of Windsor', 'Rovira i Virgili University', 'University of Burgundy', 'Gunma University', 'AGH University of Science and Technology', 'Gifu University', 'Hacettepe University', 'Örebro University', 'Memorial University of Newfoundland', 'Kindai University', 'University of Rhode Island', 'University of Alicante', 'New Jersey Institute of Technology', 'Lille 2 University of Health and Law', 'Keele University', 'University of Jyväskylä', 'Rochester Institute of Technology', 'Sapporo Medical University', 'Banaras Hindu University', 'King Abdullah University of Science and Technology', 'Northeast Normal University', 'Portland State University', 'University of Québec at Montreal', 'East China Normal University', 'University of Debrecen', 'Loma Linda University', 'Old Dominion University', 'University of Insubria', 'University of Nevada, Las Vegas', 'Hong Kong Baptist University', 'University of Minho', 'University of Messina', 'University of Texas at Arlington', 'University François Rabelais, Tours', 'UNESP, São Paulo State University', 'Toho University', 'Beijing University of Chemical Technology', 'Rutgers, The State University of New Jersey - Newark', 'Johannes Kepler University of Linz', 'Warsaw University of Technology', 'University of Paris 13', 'University of Toyama', 'University of Toledo', 'University of Vigo', 'University of Kent', 'Jichi Medical University', 'Roma Tre University', 'Chung Yuan Christian University', 'University of Haifa', 'Åbo Akademi University', 'Swansea University', 'China Agricultural University', 'Marche Polytechnic University', 'University of Maine, Orono', 'Heriot-Watt University', 'Marquette University', 'Loughborough University', 'Kaiserslautern University of Technology', 'Aston University', 'University of Girona', 'Hasselt University', 'Nanjing University of Science and Technology', 'University of Natural Resources and Life Sciences, Vienna', 'University of Szeged', 'Soochow University (Suzhou)', 'University of the Balearic Islands', 'Fuzhou University', 'University of Memphis', 'San Francisco State University', 'East Carolina University', 'University of Augsburg', 'University of Missouri–St. Louis', 'Kyoto Prefectural University of Medicine', 'Shanghai University', 'University of South Australia', 'Liverpool John Moores University', 'Graz University of Technology', 'Kitasato University', 'University of North Carolina at Charlotte', \"G. d'Annunzio University, Chieti-Pescara\", 'University of Cantabria', 'Miguel Hernández University of Elche', 'Donghua University', 'Comenius University in Bratislava', 'University of Alabama in Huntsville', 'Mie University', 'University of Stirling', 'Hunter College', 'Swinburne University of Technology', 'University of Ulster', \"University of Évry Val d'Essonne\", 'University of Salerno', 'National University of La Plata', 'Masaryk University', 'Yamaguchi University', 'University of Yamanashi', 'Showa University', 'North Dakota State University - Main Campus', 'University of North Texas, Denton', 'University of Mississippi Medical Center', 'University of Tehran', 'Paul Valéry University, Montpellier III', 'Wuhan University of Technology', 'University of Hyogo', 'The Catholic University of America', 'University of Neuchâtel', 'National Polytechnic Institute', 'Jikei University School of Medicine', 'University of Valladolid', 'University of Calabria', 'University of Lübeck', 'Kurume University', 'Peking Union Medical College', 'Yamagata University', 'University of Córdoba (Spain)', 'University of Mons', 'Saga University', 'Clarkson University', 'University of South Alabama', 'Inje University', 'University of Caen Lower Normandy', 'University of Castilla–La Mancha', 'Czech Technical University in Prague', 'Saitama Medical University', 'Istanbul Technical University', 'Kaohsiung Medical University', 'University of Electro-Communications', 'Yeungnam University', 'Jawaharlal Nehru Centre for Advanced Scientific Research', 'Putra University, Malaysia', 'Institut national des sciences Appliquées de Lyon', 'University of Perpignan Via Domitia', 'University of Miyazaki', 'Second Military Medical University', 'Northern Arizona University', 'École Polytechnique de Montréal', 'University of Salento', 'Fukuoka University', 'Nagoya Institute of Technology', 'Ankara University', 'Blaise Pascal University', 'University of Electronic Science and Technology of China', 'National Sun Yat-sen University', 'University of Rouen', 'Bowling Green State University', 'Norwegian University of Life Sciences', 'University of Picardie Jules Verne', 'Michigan Technological University', 'University of Concepción', 'China Medical University (Taiwan)', 'University of Hohenheim', 'Aberystwyth University', 'Wilfrid Laurier University', 'Cairo University', 'University of Murcia', 'Palacký University, Olomouc', 'Taipei Medical University', 'University of Bradford', 'King Fahd University of Petroleum and Minerals', 'Ege University', 'University of Belgrade', 'University of Eastern Piedmont Amedeo Avogadro\"\"', 'Budapest University of Technology and Economics', 'University of Salzburg', 'University of Massachusetts Lowell', 'Jaume I University', 'Chongqing University', 'Beijing Institute of Technology', 'Manchester Metropolitan University', 'Zhengzhou University', 'Dublin City University', 'National University of Ireland, Maynooth', 'Kangwon National University', 'Royal Veterinary College, University of London', 'Wright State University - Dayton', 'Capital Medical University', 'University of Brighton', 'Sofia University', 'University of Regina', 'Magna Græcia University of Catanzaro', 'Chungbuk National University', 'Kōchi University', 'University of New Brunswick', 'Sejong University', 'Sharif University of Technology', 'Chung-Ang University', 'Queens College, City University of New York', 'Murdoch University', 'Chosun University', 'Vilnius University', 'University of Maribor', 'Ritsumeikan University', 'University of Sassari', 'Nanjing Normal University', 'University of Franche-Comté', 'University of Texas at El Paso', 'Rio de Janeiro State University', 'Jinan University', 'University of Massachusetts Boston', 'University of Alcalá', 'Tehran University of Medical Sciences', 'University of the Ryukyus', 'University of Angers', 'Fluminense Federal University', 'Florida Institute of Technology', 'Trent University', 'National Chung Cheng University', 'Bilkent University', 'National Taiwan Normal University', 'Saitama University', 'RMIT University', 'Hamamatsu University School of Medicine', 'University of Greifswald', 'University of Pécs', 'University of Fukui', 'Oakland University', 'Nanjing University of Technology', 'University of Technology, Sydney', 'University of North Carolina at Greensboro', 'All India Institute of Medical Sciences, New Delhi', 'Kyoto Institute of Technology', 'Ocean University of China', 'Chiang Mai University', 'University of Camerino', 'Hirosaki University', 'University of North Dakota', 'University of Extremadura', 'Teikyo University', 'Jiangnan University', 'Adam Mickiewicz University in Poznań', 'University of Waikato', 'University of Veterinary Medicine Vienna', 'University of Cádiz', 'Florida Atlantic University', 'Huazhong Agricultural University', 'Brock University', 'University of Lleida', 'Shanghai Normal University', 'Jean Monnet University', 'Shimane University', 'University of Orléans', 'University of Siegen', 'Makerere University', 'University of Wales, Trinity Saint David', 'National Taiwan University of Science and Technology', 'University of Brasília', 'University of Western Brittany', 'Nanjing Agricultural University', 'National University of Córdoba', 'Federal University of Santa Catarina', 'National Taiwan Ocean University', 'Gazi University', 'National University of Colombia', 'University of Jaén', 'Boğaziçi University', 'Jadavpur University', 'Pukyong National University', 'University of Western Sydney', 'Northeastern University (China)', 'University of Mannheim', 'University of Osnabrück', 'Charles Darwin University', 'University of Hyderabad', 'Northwest University (China)', 'University of Southern Mississippi', 'University of Wrocław', 'Carlos III University of Madrid', 'Novosibirsk State University', 'Nanjing Medical University', 'Nicolaus Copernicus University in Toruń', 'Federal University of Santa Maria', 'Chemnitz University of Technology', 'Southwest University', 'Wrocław University of Technology', 'University of California, Merced', 'United Arab Emirates University', 'Federal University of São Carlos', 'University of Thessaly', 'University of Basilicata', 'Feng Chia University', 'Federal University of Paraná', 'University of Almería', 'Hallym University', 'Fourth Military Medical University', 'University of the Republic (Uruguay)', 'Dokuz Eylül University', 'Nanjing University of Aeronautics and Astronautics', 'Public University of Navarre', 'University of A Coruña', 'Isfahan University of Technology', 'University of New England (Australia)', 'Federal University of Pernambuco', 'Jiangsu University', 'Third Military Medical University', 'South China Normal University', 'University of Limerick', 'Xiangtan University', 'Yangzhou University', 'Northwestern Polytechnical University', 'University of Reims Champagne-Ardenne', 'Ibaraki University', 'Chung Shan Medical University', 'Alexandria University', 'Yuan Ze University', 'University of Cyprus', 'University of Silesia', 'Southern Medical University', 'Shiraz University', 'University of Bucharest', 'Mansoura University', 'Amirkabir University of Technology', 'Beijing Jiaotong University', 'University of Valenciennes and Hainaut-Cambresis', 'University of the Algarve', 'University of Chemistry and Technology, Prague', 'Federal University of Ceará', 'Ain Shams University', 'University of Oldenburg', 'Federal University of Bahia', 'Hunan Normal University', 'Western Michigan University', 'University of Seoul', 'Federico Santa María Technical University', 'Ryerson University', 'South China Agricultural University', 'Fu Jen Catholic University', 'China Pharmaceutical University', 'Tarbiat Modares University', 'University of Puerto Rico at Mayagüez', 'National University of Rosario', \"University of Pau and Pays de l'Adour\", 'Xidian University', 'Zhejiang University of Technology', 'China Medical University (PRC)', 'Federal University of ABC', 'King Juan Carlos University', 'Beijing University of Technology', 'Guangxi University', 'Northwest A&F University', 'Shanxi University', 'Tamkang University', 'Harbin Medical University', 'Zhejiang Normal University', 'King Abdulaziz University', 'Iran University of Science and Technology', 'I-Shou University', 'University of Maine (Le Mans)', 'National Dong Hwa University', 'National Taipei University of Technology', 'Shaanxi Normal University', 'National University of Defense Technology', 'Yanbian University', 'Keio University', 'Waseda University', 'Peking University', 'National Taiwan University', 'Lomonosov Moscow State University', 'National University of Singapore', 'University of Notre Dame', 'Tsinghua University', 'Katholieke Universiteit Leuven', 'Erasmus University Rotterdam', 'University of Melbourne', \"King's College London\", 'Tufts University', 'Yonsei University', 'Kyushu University', 'Technical University of Munich', 'University of Queensland', 'Mines ParisTech', 'Case Western Reserve University', 'Indiana University - Bloomington', 'University of Alberta', 'Leiden University', 'Tokyo Institute of Technology', 'University of Groningen', 'Georgetown University', 'University of Amsterdam', 'Korea University', 'University of Barcelona', 'Lund University', 'Michigan State University', 'Ghent University', 'Baylor College of Medicine', 'Aarhus University', 'University of Bristol', 'Uppsala University', 'Royal Institute of Technology', 'University of Colorado Denver', 'University of Glasgow', 'VU University Amsterdam', 'University of New South Wales', 'Paris Diderot University - Paris 7', 'University of São Paulo', 'Western University (The University of Western Ontario)', 'Radboud University Nijmegen', 'Nanyang Technological University', 'University of Miami', 'Stony Brook University', 'University of Texas at Dallas', 'University of Nottingham', 'University of Iowa', 'Southern Methodist University', 'Icahn School of Medicine at Mount Sinai', 'Korea Advanced Institute of Science and Technology (KAIST)', 'Monash University', 'University of Alabama at Birmingham', 'Free University of Berlin', 'University of Southampton', 'University of the Witwatersrand', 'McMaster University', 'University of Montreal', 'University of Birmingham', 'Humboldt University of Berlin', 'University of California, Santa Cruz', 'Albert Ludwig University of Freiburg', 'University of Tübingen', 'University of Cincinnati', 'University of Bonn', 'Wake Forest University', 'University of Basel', 'University of Leeds', 'University of Hamburg', 'Université libre de Bruxelles', 'Indiana University-Purdue University Indianapolis', 'Pohang University of Science and Technology', 'Oregon Health & Science University', 'University of Calgary', 'Stockholm University', 'University of Padua', 'University of Hong Kong', 'Yeshiva University', 'University of Milan', 'University of Sheffield', 'Technical University of Denmark', 'University of Maryland, Baltimore', 'Goethe University Frankfurt', 'University of Göttingen', 'Hokkaido University', 'Australian National University', 'Shanghai Jiao Tong University', 'University of New Mexico', 'University of Strasbourg', 'University of Massachusetts Medical School', 'University of Houston', 'Trinity College, Dublin', 'University of Lausanne', 'Iowa State University', 'Joseph Fourier University', 'Wayne State University', 'University of South Florida - Tampa', 'Zhejiang University', 'Hanyang University', 'University of Ottawa', 'University of Missouri–Columbia', 'Fudan University', 'University of Kansas', 'University of Cologne', 'University of Georgia', 'University of Liverpool', 'University of Bern', 'Cardiff University', 'George Washington University', 'University of Illinois at Chicago', 'University of Erlangen-Nuremberg', 'University of Münster', 'Aix-Marseille University', 'Claude Bernard University Lyon 1', 'University of Bologna', 'Queen Mary University of London', 'Dresden University of Technology', 'Sungkyunkwan University', 'Newcastle University', 'Karlsruhe Institute of Technology', 'University of California, Riverside', 'University of Kiel', 'University of Western Australia', 'Paris Descartes University', 'University of Connecticut', 'University of Massachusetts Amherst', 'Chinese University of Hong Kong', 'University of Turin', 'University of Manitoba', 'University of Vienna', 'University of Montpellier', 'Maastricht University', 'National Cheng Kung University', 'University of Tennessee, Knoxville', 'Complutense University of Madrid', 'Laval University', 'RWTH Aachen University', 'Université catholique de Louvain', 'North Carolina State University', 'Johannes Gutenberg University of Mainz', 'University of Texas Health Science Center at San Antonio', \"Julius-Maximilian's University of Würzburg\", 'Paul Sabatier University - Toulouse III', 'University of Gothenburg', 'University College Dublin', 'University of Science and Technology of China', 'University of Leicester', 'Autonomous University of Barcelona', 'University of Dundee', 'Norwegian University of Science and Technology', 'Nanjing University', 'Okayama University', 'London School of Hygiene & Tropical Medicine', 'University of Florence', 'University of Cape Town', 'University of Texas Health Science Center at Houston', 'Moscow Institute of Physics and Technology', 'University of Düsseldorf', 'Florida State University', 'University of Sussex', 'Thomas Jefferson University', 'Delft University of Technology', 'Virginia Polytechnic Institute and State University', 'University of Lisbon', 'Drexel University', 'Virginia Commonwealth University', 'Oregon State University', 'Durham University', 'University of Tsukuba', 'University of Reading', 'Lehigh University', 'Medical University of Vienna', 'University of Auckland', 'University of Kentucky', 'University of Naples Federico II', 'University of Waterloo', 'Charles University in Prague', 'Colorado State University - Fort Collins', 'Tulane University', 'University at Buffalo, The State University of New York', 'Brandeis University', 'Northeastern University', 'Wageningen University and Research Centre', 'Sun Yat-sen University', 'University of Ulm', 'London School of Economics', 'Vrije Universiteit Brussel', 'University of Delaware', 'Rensselaer Polytechnic Institute', 'University of Bergen', \"Queen's University\", 'University of Aberdeen', 'Dalhousie University', 'Umeå University', 'University of Duisburg-Essen', 'City College of New York', 'Hiroshima University', 'University of Texas at San Antonio', 'Hannover Medical School', 'University of Warwick', 'University of Valencia', 'University of Pisa', 'Ruhr University Bochum', 'Medical College of Wisconsin', 'University of Louisville', 'University of Bordeaux', 'University of South Carolina - Columbia', 'National and Kapodistrian University of Athens', 'Leipzig University', 'Medical University of South Carolina', 'Autonomous University of Madrid', 'Dalian University of Technology', 'Stellenbosch University', 'Kyungpook National University', 'University of Porto', 'University of St Andrews', 'Gwangju Institute of Science and Technology', 'Chulalongkorn University', 'University of Antwerp', 'Xiamen University', 'University of Nebraska–Lincoln', 'Nankai University', 'University of Stuttgart', 'University of Rome Tor Vergata', 'University of Regensburg', 'Hong Kong University of Science and Technology', 'Kobe University', 'University of Liège', 'Federal University of Rio de Janeiro', 'Rush University', 'University of Vermont', 'University of York', 'Boston College', 'University of Pavia', 'University of Jena', 'Vita-Salute San Raffaele University', 'University of Genoa', 'Tianjin University', 'Louisiana State University - Baton Rouge', 'University of Exeter', 'National Autonomous University of Mexico', 'University of Adelaide', 'University of East Anglia', 'York University', 'University of Navarra', 'University of Oregon', \"St George's, University of London\", 'Indian Institute of Technology Delhi', 'University of Trieste', \"Queen's University Belfast\", 'University of Perugia', 'Technical University of Berlin', 'University of Marburg', 'University of Innsbruck', 'Eindhoven University of Technology', 'Ben-Gurion University of the Negev', 'University of Oklahoma - Norman Campus', 'Wesleyan University', 'University of Victoria', 'Kansas State University', 'Hong Kong Polytechnic University', 'Linköping University', 'University of Southern Denmark', 'University of Otago', 'Justus Liebig University Giessen', 'University of New Hampshire', 'College of William and Mary', 'San Diego State University', 'Simon Fraser University', 'University of Santiago de Compostela', 'Saint Louis University', 'Colorado School of Mines', 'University of Eastern Finland', 'University of Buenos Aires', 'University of Guelph', 'University of Ferrara', 'Polytechnic University of Catalonia', 'Versailles Saint-Quentin-en-Yvelines University', 'Saarland University', 'City University of Hong Kong', 'Darmstadt University of Technology', 'Pompeu Fabra University', 'Pontifical Catholic University of Chile', 'University of Bari Aldo Moro', 'University of Texas Medical Branch at Galveston', 'University of Delhi', 'Washington State University, Pullman', 'Temple University', 'University of Milan - Bicocca', 'University of Turku', 'Chonnam National University', 'University of Lorraine', 'National Chiao Tung University', 'Catholic University of the Sacred Heart', 'University at Albany, SUNY', \"Xi'an Jiaotong University\", 'Ewha Womans University', 'Jilin University', 'Tokyo Medical and Dental University', 'Scuola Normale Superiore di Pisa', 'University of Central Florida', 'Innsbruck Medical University', 'Beijing Normal University', 'Polytechnic University of Milan', 'University of Seville', 'University of Nebraska Medical Center', 'Huazhong University of Science and Technology', 'Kyung Hee University', 'Chalmers University of Technology', 'Brigham Young University', 'University of Campinas', 'University of Bath', 'Saint Petersburg State University', 'National Tsing Hua University', 'University of Twente', 'University of Alabama - Tuscaloosa', 'Harbin Institute of Technology', 'University of Verona', 'Oklahoma State University–Stillwater', 'Shandong University', 'George Mason University', 'Wuhan University', 'Swedish University of Agricultural Sciences', 'Concordia University', 'Chiba University', 'Kumamoto University', 'Tongji University', 'Aalto University', 'Chonbuk National University', 'Peking Union Medical College', 'Georgia Regents University', 'University of Chile', 'Lancaster University', 'Vienna University of Technology', 'University of Denver', 'University of Arkansas for Medical Sciences', 'Grenoble Institute of Technology', 'University of Granada', 'University of Modena and Reggio Emilia', 'Ajou University', 'Gyeongsang National University', 'Technical University of Madrid', 'University College Cork', 'Loyola University Chicago', 'Central South University', 'South China University of Technology', 'Polytechnic University of Valencia', 'West Virginia University', 'University of Tampere', 'Southeast University', 'Miami University', 'University of Dayton', 'University of Siena', 'University of Oulu', 'Indian Institute of Science', 'Macquarie University', 'University of Rostock', 'Jagiellonian University', 'Pusan National University', 'University of Strathclyde', 'University of Nevada, Reno', 'University of Saskatchewan', 'University of Parma', 'Kanazawa University', 'Eötvös Loránd University', 'Aristotle University of Thessaloniki', 'Ohio University', 'University of Iceland', 'University of Warsaw', 'Syracuse University', 'Bielefeld University', 'Juntendo University', 'University of Wyoming', 'University of Wollongong', 'Niigata University', 'Texas Tech University (TTU)', 'Middle East Technical University', 'École normale supérieure de Lyon', 'Brunel University', 'Nihon University', 'Osaka City University', 'University of Rennes 1', 'University of Oklahoma Health Sciences Center', 'East China University of Science and Technology', 'University of KwaZulu-Natal', 'Sichuan University', 'Illinois Institute of Technology', 'Tokyo University of Science', 'University of Science, Malaysia', 'Clemson University', 'University of Zaragoza', 'University of the Basque Country', 'Nagasaki University', 'Technical University of Dortmund', 'University of Hawaii at Manoa', 'University of Nebraska Omaha', 'University of Konstanz', 'Panjab University', 'University of Hanover', 'University of Maryland, Baltimore County', 'University of Newcastle', 'University of Ulsan', 'Renmin University of China', 'Martin Luther University of Halle-Wittenberg', 'University of Malaya', 'University of Savoy', 'University of Udine', 'Tokyo Metropolitan University', 'University of Sherbrooke', 'University of Brescia', 'University of Ljubljana', 'University of Nice Sophia Antipolis', 'University of Hull', 'University of Coimbra', 'Creighton University', 'Georgia State University', 'University of Wisconsin–Milwaukee', 'Catholic University of Korea', 'University of Tokushima', 'Yokohama City University', 'Lanzhou University', 'University of Crete', 'SUNY Downstate Medical Center', 'University of Potsdam', 'Yokohama National University', 'New Mexico State University', 'University of Bayreuth', 'Bar-Ilan University', 'University of Mississippi - Oxford Campus', 'University of Tasmania', 'Graduate University for Advanced Studies', 'University of Surrey', 'Federal University of Minas Gerais', 'University of Tromsø - The Arctic University of Norway', 'University of Palermo', 'Shinshu University', 'University of Science and Technology Beijing', 'University of Catania', 'Mahidol University', 'University of Canterbury', 'Indian Institute of Technology Madras', 'University of Bremen', 'Otto-von-Guericke University Magdeburg', 'University of Tartu', 'University of Windsor', 'University of Nantes', 'Royal Holloway, University of London', 'James Cook University', 'National Yang-Ming University', 'University of Akron', 'National Chung Hsing University', 'City University London', 'New York Medical College', 'Nara Institute of Science and Technology', 'École Centrale Paris', 'Auburn University', 'University of Arkansas - Fayetteville', 'University of Zagreb', 'University of Lübeck', 'Hunan University', 'University of Missouri–Kansas City', \"Tokyo Women's Medical University\", 'Montana State University - Bozeman', 'University of Aveiro', 'National University of Ireland, Galway', 'University of Oviedo', 'Dongguk University', 'University of Trento', 'University Lille 1: Sciences and Technologies', 'Chang Gung University', 'National Central University', 'Aalborg University', 'Utah State University', 'Baylor University', 'Bangor University', 'King Saud University', 'University of Cagliari', 'Kent State University', 'Central China Normal University', 'University of Fribourg', 'Medical University of Graz', 'Second University of Naples', 'International School for Advanced Studies', 'Tampere University of Technology', 'Inha University', 'Deakin University', 'National Polytechnic Institute of Toulouse', 'Sogang University', 'University of Ioannina', 'Federal University of Rio Grande do Sul', 'University of Graz', 'University of Montana - Missoula', 'East China Normal University', 'Plymouth University', 'Victoria University of Wellington', 'Federal University of São Paulo', 'Southern Illinois University Carbondale', 'University of Alaska Fairbanks', 'University of Toledo', 'Carleton University', 'Cranfield University', 'Curtin University', 'Indian Institute of Technology Bombay', 'University of Portsmouth', 'Osaka Prefecture University', 'Nagoya City University', 'LSU Health Sciences Center New Orleans', 'Tata Institute of Fundamental Research', 'Konkuk University', 'University of La Laguna', 'University of Hertfordshire', 'Florida International University', 'University of Rhode Island', 'Mississippi State University', 'Gunma University', 'University of New Orleans', 'Putra University, Malaysia', 'Memorial University of Newfoundland', 'Universidade Nova de Lisboa', 'Griffith University', 'Indian Institute of Technology Kharagpur', 'Soochow University (Suzhou)', 'Texas A&M Health Science Center', 'Semmelweis University', 'Lille 2 University of Health and Law', 'Kagoshima University', 'Flinders University', 'Queensland University of Technology', 'Tokai University', 'Istanbul University', 'Tokyo University of Agriculture and Technology', 'Louisiana Tech University', 'University of Texas at Arlington', 'China Agricultural University', 'Chungnam National University', 'University of Minho', 'University of Eastern Piedmont Amedeo Avogadro\"\"', 'Open University (UK)', 'University of Essex', 'Paris-Est Créteil Val-de-Marne University', 'Hacettepe University', 'State University of New York Upstate Medical University', 'Braunschweig University of Technology', 'University of Salamanca', 'Indian Institute of Technology Roorkee', 'Örebro University', 'Northeast Normal University', 'University of Patras', 'Beijing University of Chemical Technology', 'Northern Illinois University', 'Rovira i Virgili University', 'La Trobe University', 'Warsaw University of Technology', 'Binghamton University', 'Shizuoka University', 'Hong Kong Baptist University', 'Albany Medical College', 'Ehime University', 'University of Los Andes (Colombia)', 'Polytechnic University of Turin', 'University of Burgundy', 'University of Idaho', 'Old Dominion University', 'Yamaguchi University', 'Massey University', 'Donghua University', 'University of the Balearic Islands', 'Portland State University', 'Marche Polytechnic University', 'University of Québec at Montreal', 'UNESP, São Paulo State University', 'Loma Linda University', 'University of Toyama', 'University of Debrecen', 'University of Maine, Orono', 'Graz University of Technology', 'Gifu University', 'University of Jyväskylä', 'University of Paris 13', 'University of Girona', 'Keele University', 'University of Poitiers', 'University of Insubria', 'Wuhan University of Technology', 'University of Pretoria', 'Banaras Hindu University', \"University of L'Aquila\", 'University of Alicante', 'American University of Beirut', 'University of Ulster', 'Shanghai University', 'Comenius University in Bratislava', 'University of Vigo', 'University of Nevada, Las Vegas', 'Swinburne University of Technology', 'Tilburg University', 'University of Messina', 'Kaiserslautern University of Technology', 'University of Kent', 'University of Málaga', 'Loughborough University', 'National Technical University of Athens', 'Liverpool John Moores University', 'Sharif University of Technology', 'Birkbeck, University of London', 'University François Rabelais, Tours', 'University of Haifa', 'Roma Tre University', 'Masaryk University', 'University of Salerno', 'King Abdullah University of Science and Technology', 'Beihang University', 'Fuzhou University', 'Heriot-Watt University', 'China Medical University (Taiwan)', 'University of Cantabria', 'Rochester Institute of Technology', 'Royal College of Surgeons in Ireland', 'San Francisco State University', 'Sapporo Medical University', 'Indian Institute of Technology Kanpur', 'Johannes Kepler University of Linz', 'Czech Technical University in Prague', 'Marquette University', 'Missouri University of Science and Technology', 'Howard University', 'Aston University', 'École normale supérieure de Cachan', 'Jichi Medical University', 'Rutgers, The State University of New Jersey - Newark', 'Palacký University, Olomouc', 'Ankara University', 'University of Belgrade', 'Toho University', 'Kyoto Prefectural University of Medicine', 'Swansea University', 'Université de Namur', 'University of Szeged', 'Kitasato University', 'Hasselt University', 'University of Córdoba (Spain)', 'Åbo Akademi University', 'Tottori University', 'Kindai University', 'University of Castilla–La Mancha', 'University of Augsburg', 'Paul Valéry University, Montpellier III', 'University of Mons', 'Istanbul Technical University', 'University of Natural Resources and Life Sciences, Vienna', 'National University of La Plata', 'University of Calabria', 'University of Memphis', \"G. d'Annunzio University, Chieti-Pescara\", 'University of Missouri–St. Louis', 'Beijing Institute of Technology', \"University of Évry Val d'Essonne\", 'University of South Australia', 'University of Alabama in Huntsville', 'University of Salzburg', 'University of Mississippi Medical Center', 'National Research Nuclear University MEPhI', 'Chung-Ang University', 'Kaohsiung Medical University', 'University of Neuchâtel', 'University of Yamanashi', 'Yamagata University', 'New Jersey Institute of Technology', 'East Carolina University', 'University of Hyogo', 'University of Picardie Jules Verne', 'University of Salento', 'Northern Arizona University', 'Miguel Hernández University of Elche', 'University of Tehran', 'Blaise Pascal University', 'Yeungnam University', 'Kurume University', 'Institut national des sciences Appliquées de Lyon', 'Saga University', 'Chongqing University', 'Jikei University School of Medicine', 'Second Military Medical University', 'Jawaharlal Nehru Centre for Advanced Scientific Research', 'University of North Texas, Denton', 'Ege University', 'Mie University', 'École Polytechnique de Montréal', 'AGH University of Science and Technology', 'University of Electronic Science and Technology of China', 'University of Stirling', 'University of Greifswald', 'National Polytechnic Institute', 'Jacobs University Bremen', 'Capital Medical University', 'Norwegian University of Life Sciences', 'Michigan Technological University', 'Vilnius University', 'North Dakota State University - Main Campus', 'University of Hohenheim', 'University of North Carolina at Charlotte', 'Zhengzhou University', 'Cairo University', 'University of Caen Lower Normandy', 'Saitama Medical University', 'University of Murcia', 'Showa University', 'University of Oldenburg', 'Magna Græcia University of Catanzaro', 'National Sun Yat-sen University', 'Nanjing University of Science and Technology', 'University of Concepción', 'Chungbuk National University', 'Taipei Medical University', 'Jaume I University', 'Bowling Green State University', 'Nanjing University of Technology', 'University of New England (Australia)', 'Kangwon National University', 'Inje University', 'Aberystwyth University', 'University of Technology, Sydney', 'University of Franche-Comté', 'University of Sassari', 'Chiang Mai University', 'Budapest University of Technology and Economics', 'University of Maribor', 'University of Bradford', 'University of Perpignan Via Domitia', 'Florida Institute of Technology', 'University of Brighton', 'University of Massachusetts Boston', 'Rio de Janeiro State University', 'Nagoya Institute of Technology', 'Jiangnan University', 'Murdoch University', 'University of Wales, Trinity Saint David', 'University of Rouen', 'The Catholic University of America', 'Wright State University - Dayton', 'Dankook University', 'Clarkson University', 'University of Regina', 'Boğaziçi University', 'Kōchi University', 'University of Miyazaki', 'University of Electro-Communications', 'University of Valladolid', 'Bilkent University', 'Dublin City University', 'University of South Alabama', 'Sofia University', 'Ocean University of China', 'King Fahd University of Petroleum and Minerals', 'University of Veterinary Medicine Vienna', 'University of Alcalá', 'Hunter College', 'All India Institute of Medical Sciences, New Delhi', 'Gazi University', 'National University of Ireland, Maynooth', 'Tehran University of Medical Sciences', 'University of the Ryukyus', 'Florida Atlantic University', 'University of Siegen', 'Huazhong Agricultural University', 'University of Angers', 'University of Seoul', 'Brock University', 'Fukuoka University', 'Hamamatsu University School of Medicine', 'Nanjing Normal University', 'National Chung Cheng University', 'Nanjing Agricultural University', 'University of the Republic (Uruguay)', 'Sejong University', 'Makerere University', 'University of New Brunswick', 'Northeastern University (China)', 'University of Extremadura', 'RMIT University', 'Royal Veterinary College, University of London', 'Chung Yuan Christian University', 'University of Osnabrück', 'Northwest University (China)', 'Chosun University', 'University of Orléans', 'Jean Monnet University', 'École centrale de Lyon', 'University of Western Sydney', 'Hefei University of Technology', 'University of Massachusetts Lowell', 'Manchester Metropolitan University', 'Nanjing Medical University', 'Kyoto Institute of Technology', 'Shanghai Normal University', 'Southwest University', 'Adam Mickiewicz University in Poznań', 'University of Calcutta', 'University of Pécs', 'Queens College, City University of New York', 'University of Lleida', 'Nanjing University of Aeronautics and Astronautics', 'University of Western Brittany', 'University of North Carolina at Greensboro', 'Pukyong National University', 'Fourth Military Medical University', 'University of Fukui', 'University of Southern Mississippi', 'University of Mannheim', 'Shimane University', 'China University of Geosciences (Wuhan)', 'University of Thessaly', 'Oakland University', 'Wilfrid Laurier University', 'Teikyo University', 'Saitama University', 'Trent University', 'Nicolaus Copernicus University in Toruń', 'Tarbiat Modares University', 'University of North Dakota', 'Isfahan University of Technology', 'Fluminense Federal University', 'National Taiwan University of Science and Technology', 'University of Lethbridge', 'Federal University of Santa Catarina', 'University of Camerino', 'University of Brasília', 'University of Wrocław', 'University of Basilicata', 'Jadavpur University', 'South China Normal University', 'University of Hyderabad', 'Ritsumeikan University', 'Carlos III University of Madrid', 'University of Cyprus', 'University of Texas at El Paso', 'University of Cádiz', 'Shahid Beheshti University of Medical Sciences', 'National Taiwan Normal University', 'National University of Córdoba', 'Federal University of Paraná', 'University of Jaén', 'University of California, Merced', 'University of Waikato', 'University of Central Lancashire', 'Federal University of Pernambuco', 'University of Almería', 'Federal University of São Carlos', 'Charles Darwin University', 'Yangzhou University', 'Wrocław University of Technology', 'Hirosaki University', 'National Taiwan Ocean University', 'Jiangsu University', 'Northwestern Polytechnical University', 'Xiangtan University', 'United Arab Emirates University', 'Gachon University', 'Hallym University', 'Harbin Engineering University', 'Dokuz Eylül University', 'Jinan University', 'Shiraz University', 'Third Military Medical University', 'Amirkabir University of Technology', 'Public University of Navarre', 'Federico Santa María Technical University', 'Federal University of ABC', 'University of Puerto Rico at Mayagüez', 'Southern Medical University', 'University of Silesia', 'Ain Shams University', 'University of Valenciennes and Hainaut-Cambresis', 'Chung Shan Medical University', 'National University of Colombia', 'South China Agricultural University', 'Ibaraki University', 'Fu Jen Catholic University', 'Hunan Normal University', 'Ulsan National Institute of Science and Technology', 'Federal University of Santa Maria', 'Shenzhen University', 'Tianjin Medical University', 'Beijing University of Technology', 'University of Reims Champagne-Ardenne', 'Yuan Ze University', 'University of Chemistry and Technology, Prague', 'University of Limerick', 'China Medical University (PRC)', 'Feng Chia University', 'Zhejiang University of Technology', 'Novosibirsk State University', 'University of Bucharest', 'Babeș-Bolyai University', 'Mansoura University', \"University of Pau and Pays de l'Adour\", 'Henan Normal University', 'Xidian University', 'Federal University of Bahia', 'Southwest Jiaotong University', 'Ryerson University', 'King Abdulaziz University', 'University of the Algarve', 'Alexandria University', 'Federal University of Ceará', 'University of A Coruña', 'China Pharmaceutical University']\n"
     ]
    }
   ],
   "source": [
    "non_consistent_uni = []\n",
    "def check_consistence(df):\n",
    "    for uni in df.institution.unique().tolist():\n",
    "        if uni not in df2_3_4_5.institution.unique().tolist():\n",
    "            non_consistent_uni.append(uni)\n",
    "\n",
    "check_consistence(df_cwur2_2012)\n",
    "check_consistence(df_cwur2_2013)\n",
    "check_consistence(df_cwur2_2014)\n",
    "check_consistence(df_cwur2_2015)\n",
    "print(non_consistent_uni)"
   ]
  },
  {
   "cell_type": "code",
   "execution_count": 198,
   "metadata": {},
   "outputs": [
    {
     "name": "stdout",
     "output_type": "stream",
     "text": [
      "1836\n"
     ]
    }
   ],
   "source": [
    "print(len(non_consistent_uni))"
   ]
  },
  {
   "cell_type": "code",
   "execution_count": 199,
   "metadata": {},
   "outputs": [
    {
     "name": "stdout",
     "output_type": "stream",
     "text": [
      "100\n",
      "100\n",
      "1000\n",
      "1000\n"
     ]
    }
   ],
   "source": [
    "print(len(df_cwur2_2012))\n",
    "print(len(df_cwur2_2013))\n",
    "print(len(df_cwur2_2014))\n",
    "print(len(df_cwur2_2015))"
   ]
  },
  {
   "cell_type": "code",
   "execution_count": 204,
   "metadata": {},
   "outputs": [
    {
     "ename": "SyntaxError",
     "evalue": "invalid syntax (<ipython-input-204-8a49f5d520b8>, line 5)",
     "output_type": "error",
     "traceback": [
      "\u001b[1;36m  File \u001b[1;32m\"<ipython-input-204-8a49f5d520b8>\"\u001b[1;36m, line \u001b[1;32m5\u001b[0m\n\u001b[1;33m    if df_cwur2_2012.world_rank = df_cwur2_2013.world_rank = df_cwur2_2014.world_rank = df_cwur2_2015.world_rank:\u001b[0m\n\u001b[1;37m                                ^\u001b[0m\n\u001b[1;31mSyntaxError\u001b[0m\u001b[1;31m:\u001b[0m invalid syntax\n"
     ]
    }
   ],
   "source": [
    "rising = []\n",
    "falling = []\n",
    "stationary = []\n",
    "for uni in consistent_uni:\n",
    "    if df_cwur2_2012.world_rank = df_cwur2_2013.world_rank = df_cwur2_2014.world_rank = df_cwur2_2015.world_rank:\n",
    "        stationary.append(uni)\n"
   ]
  },
  {
   "cell_type": "code",
   "execution_count": null,
   "metadata": {},
   "outputs": [],
   "source": []
  },
  {
   "cell_type": "code",
   "execution_count": null,
   "metadata": {},
   "outputs": [],
   "source": []
  },
  {
   "cell_type": "code",
   "execution_count": null,
   "metadata": {},
   "outputs": [],
   "source": []
  },
  {
   "cell_type": "markdown",
   "metadata": {
    "colab_type": "text",
    "id": "yN5zlizIuZa8"
   },
   "source": [
    "### Which are consistent, which aren't?\n",
    "* There are 91 universities consistently appear in the rankings, shown in the list 'consistent_uni' above.\n",
    "* There are 1836 universities that are not consistently appear in the rankings, shown in the list 'non_consistent_uni' above.\n",
    "\n",
    "### Which universities are rising, falling, or stationary in rank over the years?\n",
    "* Rising:\n",
    "* Falling:\n",
    "* Stationary:\n"
   ]
  },
  {
   "cell_type": "markdown",
   "metadata": {
    "colab_type": "text",
    "id": "PfjXDtHoabcS"
   },
   "source": [
    "### Q5. For 15 Points: Using the education expenditure data, identify the nations that spent below the average of the OECD for Higher Education Institutions in 1995, but above the average in 2010.\n",
    "\n",
    "* Sort the nations by difference between 1995 and 2010\n",
    "* Plot the lag, and explain your answers."
   ]
  },
  {
   "cell_type": "code",
   "execution_count": null,
   "metadata": {
    "colab": {},
    "colab_type": "code",
    "id": "OMnjkk4St77B"
   },
   "outputs": [],
   "source": [
    "# put your code here"
   ]
  },
  {
   "cell_type": "markdown",
   "metadata": {
    "colab_type": "text",
    "id": "nau57Y2ZuZ6Y"
   },
   "source": [
    "(Use this space to explain your answers)"
   ]
  },
  {
   "cell_type": "markdown",
   "metadata": {
    "colab_type": "text",
    "id": "2wH5ikUcbb16"
   },
   "source": [
    "### Q6. For 15 Points: Using the Times ranking, look at how the Female : Male ratio (`female_male_ratio` column) changes over time.\n",
    "\n",
    "What were the distributions like in the year 2012 and 2015? How have these distributions changed?\n",
    "\n",
    "You may want to convert the column values to an easier-to-understand measure, such as a percentage or the ratio of female students (the first numeric value in the ratio entry)."
   ]
  },
  {
   "cell_type": "code",
   "execution_count": null,
   "metadata": {
    "colab": {},
    "colab_type": "code",
    "id": "FoWTh2ekt8Wp"
   },
   "outputs": [],
   "source": [
    "# put your code here"
   ]
  },
  {
   "cell_type": "markdown",
   "metadata": {
    "colab_type": "text",
    "id": "lGrRhr22uan4"
   },
   "source": [
    "(Use this space to explain your answers)"
   ]
  },
  {
   "cell_type": "markdown",
   "metadata": {
    "colab_type": "text",
    "id": "FtKwcSyVp_T3"
   },
   "source": [
    "### *Bonus* – For 5 Points: Which, if any, of the rankings from the Kaggle data set support the claims made in [this Times Higher Education article on public schools](https://www.timeshighereducation.com/student/best-universities/best-public-universities-united-states)?\n",
    "\n",
    "Justify your claim with specific examples or data."
   ]
  },
  {
   "cell_type": "code",
   "execution_count": null,
   "metadata": {
    "colab": {},
    "colab_type": "code",
    "id": "F33JFOm3qU6c"
   },
   "outputs": [],
   "source": [
    "# put your code here"
   ]
  },
  {
   "cell_type": "markdown",
   "metadata": {
    "colab_type": "text",
    "id": "OKQqn10-qbTx"
   },
   "source": [
    "(Use this space to explain your answers)"
   ]
  }
 ],
 "metadata": {
  "colab": {
   "collapsed_sections": [],
   "name": "618_HW2.ipynb",
   "provenance": [],
   "version": "0.3.2"
  },
  "kernelspec": {
   "display_name": "Python 3",
   "language": "python",
   "name": "python3"
  },
  "language_info": {
   "codemirror_mode": {
    "name": "ipython",
    "version": 3
   },
   "file_extension": ".py",
   "mimetype": "text/x-python",
   "name": "python",
   "nbconvert_exporter": "python",
   "pygments_lexer": "ipython3",
   "version": "3.7.1"
  }
 },
 "nbformat": 4,
 "nbformat_minor": 2
}
