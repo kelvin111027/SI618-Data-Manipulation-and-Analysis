{
 "cells": [
  {
   "cell_type": "markdown",
   "metadata": {
    "colab_type": "text",
    "id": "UGqk3SzXsMR3"
   },
   "source": [
    "# SI 618 - Homework #1: Data Manipulation"
   ]
  },
  {
   "cell_type": "markdown",
   "metadata": {
    "colab_type": "text",
    "id": "Crxe7LeXJ9yn"
   },
   "source": [
    "## Background"
   ]
  },
  {
   "cell_type": "markdown",
   "metadata": {
    "colab_type": "text",
    "id": "1IaTA3GNJ9yo"
   },
   "source": [
    "This homework assignment focuses on the analysis of historical data from the Olympic games.  The description of the data includes the following:\n",
    "> This is a historical dataset on the modern Olympic Games, including all the Games from Athens 1896 to Rio 2016. I scraped this data from www.sports-reference.com in May 2018."
   ]
  },
  {
   "cell_type": "markdown",
   "metadata": {
    "colab_type": "text",
    "id": "jae-nANHJ9yp"
   },
   "source": [
    "Your main task in this assignment is to explore the data *using the data\n",
    "manipulation methods we covered in class* as well as those in the assigned readings.  You may need to consult pandas documentation, Stack Overflow, or other online resources.  \n",
    "\n",
    "** You should also feel free to ask questions on the class Slack channel! **"
   ]
  },
  {
   "cell_type": "markdown",
   "metadata": {
    "colab_type": "text",
    "id": "pbqbtPreaCjs"
   },
   "source": [
    "A total of 100 points is available in this homework assignment, consisting of:\n",
    "- 80 points for completing the specific homework questions. More comprehensive \n",
    "answers will tend to gain more points.\n",
    "- 10 points for the overall quality of spelling, grammar, punctuation, and style of written responses.  (see https://faculty.washington.edu/heagerty/Courses/b572/public/StrunkWhite.pdf for a detailed specifications).\n",
    "- 10 points for creating code that conforms to [PEP 8](https://www.python.org/dev/peps/pep-0008/) guidelines.  You should review those guidelines before proceding with the assignment.\n"
   ]
  },
  {
   "cell_type": "markdown",
   "metadata": {
    "colab_type": "text",
    "id": "Pr9WBUQyZY4V"
   },
   "source": [
    "## 0. Download the data from: \n",
    "- https://www.kaggle.com/heesoo37/120-years-of-olympic-history-athletes-and-results\n",
    "- https://en.wikipedia.org/wiki/List_of_Olympic_Games_host_cities (note: we suggest you use the [read_html](https://pandas.pydata.org/pandas-docs/stable/generated/pandas.read_html.html) function to load the data into a DataFrame."
   ]
  },
  {
   "cell_type": "code",
   "execution_count": 1,
   "metadata": {},
   "outputs": [],
   "source": [
    "MY_UNIQNAME = 'kaikang' # please fill in your uniqname"
   ]
  },
  {
   "cell_type": "markdown",
   "metadata": {
    "colab_type": "text",
    "id": "8EV1PilWtl0Z"
   },
   "source": [
    "## 1. Answer the questions below. \n",
    "For each question, you should\n",
    "1. Write code using Python and pandas that can help you answer the following questions, and\n",
    "2. Explain your answers in plain English. You should use complete sentences that would be understood by an educated professional who is not necessarily a data scientist (like a product manager)."
   ]
  },
  {
   "cell_type": "markdown",
   "metadata": {
    "colab_type": "text",
    "id": "PfjXDtHoabcS"
   },
   "source": [
    "### 5 pt: Describe the dataset. \n",
    "- How many number rows and columns do you see in each data frame? \n",
    "- Are there any other interesting descriptive details?"
   ]
  },
  {
   "cell_type": "code",
   "execution_count": 2,
   "metadata": {
    "colab": {},
    "colab_type": "code",
    "id": "ttHwVC8ot5Ur",
    "scrolled": false
   },
   "outputs": [
    {
     "data": {
      "text/plain": [
       "(271116, 15)"
      ]
     },
     "execution_count": 2,
     "metadata": {},
     "output_type": "execute_result"
    }
   ],
   "source": [
    "# put your code here\n",
    "import pandas as pd \n",
    "import numpy as np\n",
    "df1 = pd.read_csv('athlete_events.csv', index_col = None)\n",
    "df1.shape\n",
    "#df1.columns\n",
    "#df1.shape\n",
    "#df1.describe()\n"
   ]
  },
  {
   "cell_type": "code",
   "execution_count": 3,
   "metadata": {},
   "outputs": [
    {
     "data": {
      "text/plain": [
       "(230, 3)"
      ]
     },
     "execution_count": 3,
     "metadata": {},
     "output_type": "execute_result"
    }
   ],
   "source": [
    "df_noc = pd.read_csv('noc_regions.csv', index_col = None)\n",
    "df_noc.shape"
   ]
  },
  {
   "cell_type": "code",
   "execution_count": 4,
   "metadata": {},
   "outputs": [
    {
     "data": {
      "text/plain": [
       "(69, 10)"
      ]
     },
     "execution_count": 4,
     "metadata": {},
     "output_type": "execute_result"
    }
   ],
   "source": [
    "html = 'https://en.wikipedia.org/wiki/List_of_Olympic_Games_host_cities'\n",
    "df2 = pd.read_html(html, header = 0, index_col = None)[1]\n",
    "df2.shape\n",
    "#df2.describe()"
   ]
  },
  {
   "cell_type": "markdown",
   "metadata": {
    "colab_type": "text",
    "id": "g1RAXO76uN-A"
   },
   "source": [
    "After using dataframe.shape method, I got the number of columns and rows\n",
    "In the dataframe (df1) created from \"athletes_events.csv\", there're 271116 rows × 15 columns;\n",
    "In the dataframe (df_noc) created from \"onc_regions.csv\", there're 230 rows × 3 columns;\n",
    "In the dataframe (df2) created from html about host cities, there're 69rows × 15 columns;\n",
    "\n",
    "After using dataframe.columns, I got the name of all the features. For example, the columns of df1 includes 'ID', 'Name', 'Age', 'Sex', etc.\n",
    "After using dataframe.describe() method, there are several interesting descriptive details.For athletes (df1), the count, mean, std, min, ..., max of ID, Age, Height ,etc. are displayed. For host cities (df2), I noticed the city (Innsbruck) and country (USA) with most frequency hosting Olympic Games.\n"
   ]
  },
  {
   "cell_type": "markdown",
   "metadata": {
    "colab_type": "text",
    "id": "tbmL9-kta0o4"
   },
   "source": [
    "### 5 pt: What is the overall ratio of female to male atheletes? \n",
    "There are multiple ways one could determine the meaning of \"overall\" here, and there isn't necessarily one correct answer. Based on your interpretation, give a justification for the choices you made in your analysis."
   ]
  },
  {
   "cell_type": "code",
   "execution_count": 5,
   "metadata": {
    "colab": {},
    "colab_type": "code",
    "id": "33LcHThyt5_N"
   },
   "outputs": [
    {
     "data": {
      "text/plain": [
       "0.33449158381730487"
      ]
     },
     "execution_count": 5,
     "metadata": {},
     "output_type": "execute_result"
    }
   ],
   "source": [
    "# put your code here\n",
    "df_athelete = df1[['ID', 'Name', 'Sex']]\n",
    "df_uniq = df_athelete.drop_duplicates(keep = \"first\")\n",
    "df_uniq.Sex.value_counts()[1] / df_uniq.Sex.value_counts()[0]\n",
    "\n"
   ]
  },
  {
   "cell_type": "markdown",
   "metadata": {
    "colab_type": "text",
    "id": "FD6-7-D-uWmX"
   },
   "source": [
    "\n",
    "The ratio is around 0.33449.\n",
    "\n",
    "I interpretated \"overall\" as the pool of all athletes attended Olympics Games (starting from the 1st game to the latest one). So the way I calculate the overal ratio of female to male atheletes is to first drop the duplicated atheletes records (only keep their first record) then divide the count of female atheletes by the count of male atheletes, the sumation of male and female atheletes is 135571. "
   ]
  },
  {
   "cell_type": "markdown",
   "metadata": {
    "colab_type": "text",
    "id": "0u5VM5ksbCTm"
   },
   "source": [
    "### 10 pt: Which athelete competed in most number of events? \n",
    "In which events did the athelete participate, and for what range of years? Which country did the athlete represent?"
   ]
  },
  {
   "cell_type": "code",
   "execution_count": 6,
   "metadata": {
    "colab": {},
    "colab_type": "code",
    "id": "JtI8ru2at6ZU"
   },
   "outputs": [
    {
     "data": {
      "text/plain": [
       "36"
      ]
     },
     "execution_count": 6,
     "metadata": {},
     "output_type": "execute_result"
    }
   ],
   "source": [
    "# put your code here\n",
    "df1.Name.value_counts()\n",
    "df1.ID.value_counts()\n",
    "df1[df1.ID == 77710].Games.unique()\n",
    "max(df1[df1.ID == 77710].Year) - min(df1[df1.ID == 77710].Year)\n",
    "\n"
   ]
  },
  {
   "cell_type": "markdown",
   "metadata": {
    "colab_type": "text",
    "id": "CCuxztg3uYPQ"
   },
   "source": [
    "Robert Tait McKenzie (ID: 77710) has competed in most number of events\n",
    "\n",
    "He participated in '1912 Summer', '1928 Summer', '1932 Summer', '1936 Summer', '1948 Summer', in the range of 36 years (from 1912-1948)\n",
    "He represented CAN which is Canada. I used value_counts() to identify the athlete who competed in most number of events, then I filtered the unique games he/she completed and calculate the range of years.\n",
    "  "
   ]
  },
  {
   "cell_type": "markdown",
   "metadata": {
    "colab_type": "text",
    "id": "2wH5ikUcbb16"
   },
   "source": [
    "### 10 pt: Which sport has the highest median athlete age? \n",
    "To determine this, you might want to plot the median age for each sport. You may want to sort the axes appropriately for your analysis."
   ]
  },
  {
   "cell_type": "code",
   "execution_count": 7,
   "metadata": {
    "colab": {},
    "colab_type": "code",
    "id": "GneWWgFVt62N"
   },
   "outputs": [
    {
     "data": {
      "text/plain": [
       "<matplotlib.axes._subplots.AxesSubplot at 0x25058df2748>"
      ]
     },
     "execution_count": 7,
     "metadata": {},
     "output_type": "execute_result"
    }
   ],
   "source": [
    "# put your code here\n",
    "df1.groupby('Sport')['Age'].median().sort_values(ascending = False)\\\n",
    "    .head(10).plot.bar()"
   ]
  },
  {
   "cell_type": "markdown",
   "metadata": {
    "colab_type": "text",
    "id": "WlWYu2_5uY7K"
   },
   "source": [
    "\n",
    "The Roque has the highest median athlete age which is 59.0\n",
    "\n",
    "I used grouby method to group dataframe by sport, then index the 'Age' feature of each record, after that, I used median() and sort_values to calculate the median age of each sport and sort them in descending order."
   ]
  },
  {
   "cell_type": "markdown",
   "metadata": {
    "colab_type": "text",
    "id": "wGoiQk8XbqHw"
   },
   "source": [
    "### 10 pt: In which events has the Netherlands won the most medals?"
   ]
  },
  {
   "cell_type": "code",
   "execution_count": 8,
   "metadata": {
    "colab": {},
    "colab_type": "code",
    "id": "U5jIdE3_t7YA"
   },
   "outputs": [
    {
     "data": {
      "text/plain": [
       "Hockey Women's Hockey                              128\n",
       "Hockey Men's Hockey                                127\n",
       "Swimming Women's 4 x 100 metres Freestyle Relay     55\n",
       "Rowing Women's Coxed Eights                         45\n",
       "Football Men's Football                             41\n",
       "Name: Event, dtype: int64"
      ]
     },
     "execution_count": 8,
     "metadata": {},
     "output_type": "execute_result"
    }
   ],
   "source": [
    "# put your code here\n",
    "\n",
    "df3 = df1.merge(df_noc, on = 'NOC')\n",
    "df_MED = df3[(df3.Medal == 'Gold') \n",
    "     | (df3.Medal == 'Silver') | (df3.Medal == 'Bronze')]\n",
    "df_MED[df_MED.Team == 'Netherlands'].Event.value_counts()[:5]\n"
   ]
  },
  {
   "cell_type": "code",
   "execution_count": null,
   "metadata": {},
   "outputs": [],
   "source": []
  },
  {
   "cell_type": "markdown",
   "metadata": {
    "colab_type": "text",
    "id": "yN5zlizIuZa8"
   },
   "source": [
    "Hockey Women's Hockey, 128 medals\n",
    "\n",
    "First I merged the two dataframe created by csv files, so that the country name \"Netherlands\" could be used. Second, created a new dataframe (df_MED) with the records with 'Gold', 'Silver' or 'Bronze' medal. Then counted the number of each events the team 'Netherlands' participated and picked out the largest one."
   ]
  },
  {
   "cell_type": "markdown",
   "metadata": {
    "colab_type": "text",
    "id": "lwumWcqTcMCs"
   },
   "source": [
    "### 10 pt: Which countries have more female medalists than male medalists?"
   ]
  },
  {
   "cell_type": "code",
   "execution_count": 24,
   "metadata": {
    "colab": {},
    "colab_type": "code",
    "id": "OMnjkk4St77B"
   },
   "outputs": [
    {
     "name": "stdout",
     "output_type": "stream",
     "text": [
      "Bahrain\n",
      "Belarus\n",
      "China\n",
      "Costa Rica\n",
      "Kosovo\n",
      "Montenegro\n",
      "Mozambique\n",
      "Peru\n",
      "Ukraine\n",
      "Zimbabwe\n"
     ]
    }
   ],
   "source": [
    "# put your code here\n",
    "\n",
    "df_medalist = df_MED[['ID', 'Name','Sex','region']]\n",
    "df_indiv = df_medalist.drop_duplicates(keep = \"first\")\n",
    "\n",
    "for region, record in df_indiv.groupby(['region']):\n",
    "    dct = {}\n",
    "    #print(region, record)\n",
    "    for gender, row in record.groupby('Sex'):\n",
    "        dct[gender] = len(row)\n",
    "    try:\n",
    "        if dct['F'] > dct['M']:\n",
    "            print(region)\n",
    "    except:\n",
    "        try:\n",
    "            if dct['F'] > 0:\n",
    "                print(region)\n",
    "        except: pass\n",
    "        \n",
    "        \n",
    "    \n",
    "         \n",
    "\n",
    "\n",
    "        \n"
   ]
  },
  {
   "cell_type": "code",
   "execution_count": null,
   "metadata": {},
   "outputs": [],
   "source": []
  },
  {
   "cell_type": "markdown",
   "metadata": {
    "colab_type": "text",
    "id": "nau57Y2ZuZ6Y"
   },
   "source": [
    "Belarus, China, Peru, Ukraine\n",
    "\n",
    "In order to drop dulicated records of the same athelete (an athelete could be counted as medalist as long as he/she got one medal in one game), I created a new dataframe (df_medalist) including the 'ID', 'Name', 'Sex', 'region' fields from the df_MED, then used drop_duplicates method to keep only one record of each medalist. Then "
   ]
  },
  {
   "cell_type": "markdown",
   "metadata": {
    "colab_type": "text",
    "id": "7n5ybXFQcR-g"
   },
   "source": [
    "### 10 pt: Which country won the most medal points in each of the 2016 Summer Olympics?\n",
    "Rank each country by a score, where 3 points are assigned for a gold medal, 2 points for silver, and 1 point for bronze."
   ]
  },
  {
   "cell_type": "code",
   "execution_count": 11,
   "metadata": {
    "colab": {},
    "colab_type": "code",
    "id": "FoWTh2ekt8Wp"
   },
   "outputs": [
    {
     "name": "stdout",
     "output_type": "stream",
     "text": [
      "('USA', 596)\n"
     ]
    }
   ],
   "source": [
    "# put your code here\n",
    "df_2016 = df_MED[df_MED.Games == \"2016 Summer\"]\n",
    "lst_score = []\n",
    "for c, record in df_2016.groupby(\"region\"):\n",
    "    shp_g = df_2016[(df_2016.region == c) & (df_2016.Medal == 'Gold')].shape\n",
    "    shp_s = df_2016[(df_2016.region == c) & (df_2016.Medal == 'Silver')].shape\n",
    "    shp_b = df_2016[(df_2016.region == c) & (df_2016.Medal == 'Bronze')].shape\n",
    "    score = shp_g[0] * 3 + shp_s[0] * 2 + shp_b[0]\n",
    "    lst_score.append((c, score))\n",
    "print(sorted(lst_score, key = lambda x: x[1], reverse = True)[0])\n",
    "    \n",
    "    \n"
   ]
  },
  {
   "cell_type": "markdown",
   "metadata": {
    "colab_type": "text",
    "id": "lGrRhr22uan4"
   },
   "source": [
    "USA won the most medal points: 596\n",
    "\n",
    "The solution used the df_MED (which contains all the model records) indexed by \"2016 Summer\". First grouped the dataframe by region, for each region (country), counted the number of gold, silver and bronze medals, then calculated the medal points beforing appeding the tuple with country name and score to the list of countries with score. Last step: sort the list by the descending order and print out the first tuple in the list."
   ]
  },
  {
   "cell_type": "markdown",
   "metadata": {
    "colab_type": "text",
    "id": "l8k4nqgfeFJb"
   },
   "source": [
    "### 20 pt: For each year in which games were held, what proportion of gold medals did the host country win? \n",
    "You will need to combine multiple datasets to complete the analysis.  "
   ]
  },
  {
   "cell_type": "code",
   "execution_count": 12,
   "metadata": {
    "colab": {},
    "colab_type": "code",
    "id": "zOlDIr9zt81i"
   },
   "outputs": [],
   "source": [
    "# put your code here\n",
    "df2.at[6, 'City'] = 'Antwerpen'\n",
    "df2.at[2, 'City'] = 'St. Louis'\n",
    "df2.at[24, 'City'] = 'Melbourne'\n",
    "df2.at[24, 'Country'] = 'Australia'\n",
    "df2['Country'].replace(to_replace = ['United Kingdom'],\n",
    "    value = 'UK', inplace = True)\n",
    "df2['Country'].replace(to_replace = ['United States'],\n",
    "    value = 'USA', inplace = True)\n",
    "dflarge = df2.merge(df3, on = 'City')\n",
    "\n",
    "\n"
   ]
  },
  {
   "cell_type": "code",
   "execution_count": 13,
   "metadata": {},
   "outputs": [
    {
     "name": "stdout",
     "output_type": "stream",
     "text": [
      "1900\n",
      "Host: France\n",
      "Proportion: 25.9%\n",
      "\n",
      "1904\n",
      "Host: USA\n",
      "Proportion: 74.0%\n",
      "\n",
      "1908\n",
      "Host: UK\n",
      "Proportion: 50.0%\n",
      "\n",
      "1912\n",
      "Host: Sweden\n",
      "Proportion: 31.6%\n",
      "\n",
      "1920\n",
      "Host: Belgium\n",
      "Proportion: 11.6%\n",
      "\n",
      "1924\n",
      "Host: France\n",
      "Proportion: 12.5%\n",
      "\n",
      "1928\n",
      "Host: Netherlands\n",
      "Proportion: 8.2%\n",
      "\n",
      "1932\n",
      "Host: USA\n",
      "Proportion: 35.0%\n",
      "\n",
      "1936\n",
      "Host: Germany\n",
      "Proportion: 28.8%\n",
      "\n",
      "1948\n",
      "Host: UK\n",
      "Proportion: 2.4%\n",
      "\n",
      "1952\n",
      "Host: Norway\n",
      "Proportion: 3.4%\n",
      "\n",
      "1956\n",
      "Host: Sweden\n",
      "Proportion: 4.5%\n",
      "\n",
      "1960\n",
      "Host: USA\n",
      "Proportion: 38.0%\n",
      "\n",
      "1964\n",
      "Host: Austria\n",
      "Proportion: 1.2%\n",
      "\n",
      "1968\n",
      "Host: France\n",
      "Proportion: 3.8%\n",
      "\n",
      "1972\n",
      "Host: Japan\n",
      "Proportion: 6.3%\n",
      "\n",
      "1976\n",
      "Host: Austria\n",
      "Proportion: 0.7%\n",
      "\n",
      "1980\n",
      "Host: USA\n",
      "Proportion: 33.3%\n",
      "\n",
      "1984\n",
      "Host: USA\n",
      "Proportion: 35.9%\n",
      "\n",
      "1988\n",
      "Host: Canada\n",
      "Proportion: 0.7%\n",
      "\n",
      "1992\n",
      "Host: France\n",
      "Proportion: 2.1%\n",
      "\n",
      "1994\n",
      "Host: Norway\n",
      "Proportion: 7.3%\n",
      "\n",
      "1996\n",
      "Host: USA\n",
      "Proportion: 26.2%\n",
      "\n",
      "1998\n",
      "Host: Japan\n",
      "Proportion: 5.5%\n",
      "\n",
      "2000\n",
      "Host: Australia\n",
      "Proportion: 9.0%\n",
      "\n",
      "2002\n",
      "Host: USA\n",
      "Proportion: 6.8%\n",
      "\n",
      "2008\n",
      "Host: China\n",
      "Proportion: 11.0%\n",
      "\n",
      "2010\n",
      "Host: Canada\n",
      "Proportion: 38.5%\n",
      "\n",
      "2012\n",
      "Host: UK\n",
      "Proportion: 7.6%\n",
      "\n",
      "2014\n",
      "Host: Russia\n",
      "Proportion: 16.3%\n",
      "\n",
      "2016\n",
      "Host: Brazil\n",
      "Proportion: 5.4%\n",
      "\n"
     ]
    }
   ],
   "source": [
    "for year, rec in dflarge.groupby(\"Year_y\"):\n",
    "    g_sum = dflarge[(dflarge.Year_y == year) \n",
    "         & (dflarge.Medal == 'Gold')].shape[0]\n",
    "    host = rec.Country.unique()[0]\n",
    "    g_host = rec[(rec.region == host) \n",
    "         & (rec.Medal == 'Gold')].shape[0]\n",
    "    print(year)\n",
    "    print(\"Host: {}\".format(host))\n",
    "    print(\"Proportion: {}%\\n\".format(round(g_host / g_sum * 100, 1)))\n",
    "    \n",
    "    \n",
    "\n"
   ]
  },
  {
   "cell_type": "code",
   "execution_count": 19,
   "metadata": {},
   "outputs": [
    {
     "data": {
      "text/html": [
       "<div>\n",
       "<style scoped>\n",
       "    .dataframe tbody tr th:only-of-type {\n",
       "        vertical-align: middle;\n",
       "    }\n",
       "\n",
       "    .dataframe tbody tr th {\n",
       "        vertical-align: top;\n",
       "    }\n",
       "\n",
       "    .dataframe thead th {\n",
       "        text-align: right;\n",
       "    }\n",
       "</style>\n",
       "<table border=\"1\" class=\"dataframe\">\n",
       "  <thead>\n",
       "    <tr style=\"text-align: right;\">\n",
       "      <th></th>\n",
       "      <th>City</th>\n",
       "      <th>Country</th>\n",
       "      <th>Continent</th>\n",
       "      <th>Summer (Olympiad)</th>\n",
       "      <th>Winter</th>\n",
       "      <th>Summer (Youth)</th>\n",
       "      <th>Winter (Youth)</th>\n",
       "      <th>Year</th>\n",
       "      <th>Opening Ceremony</th>\n",
       "      <th>Closing Ceremony</th>\n",
       "    </tr>\n",
       "  </thead>\n",
       "  <tbody>\n",
       "    <tr>\n",
       "      <th>0</th>\n",
       "      <td>Athens</td>\n",
       "      <td>Greece</td>\n",
       "      <td>Europe</td>\n",
       "      <td>NaN</td>\n",
       "      <td>NaN</td>\n",
       "      <td>NaN</td>\n",
       "      <td>NaN</td>\n",
       "      <td>1896</td>\n",
       "      <td>April 6</td>\n",
       "      <td>April 15</td>\n",
       "    </tr>\n",
       "    <tr>\n",
       "      <th>1</th>\n",
       "      <td>Paris</td>\n",
       "      <td>France</td>\n",
       "      <td>Europe</td>\n",
       "      <td>NaN</td>\n",
       "      <td>NaN</td>\n",
       "      <td>NaN</td>\n",
       "      <td>NaN</td>\n",
       "      <td>1900</td>\n",
       "      <td>May 14</td>\n",
       "      <td>October 28</td>\n",
       "    </tr>\n",
       "    <tr>\n",
       "      <th>2</th>\n",
       "      <td>St. Louis</td>\n",
       "      <td>USA</td>\n",
       "      <td>North America</td>\n",
       "      <td>NaN</td>\n",
       "      <td>NaN</td>\n",
       "      <td>NaN</td>\n",
       "      <td>NaN</td>\n",
       "      <td>1904</td>\n",
       "      <td>July 1</td>\n",
       "      <td>November 23</td>\n",
       "    </tr>\n",
       "    <tr>\n",
       "      <th>3</th>\n",
       "      <td>London[c]</td>\n",
       "      <td>UK</td>\n",
       "      <td>Europe</td>\n",
       "      <td>NaN</td>\n",
       "      <td>NaN</td>\n",
       "      <td>NaN</td>\n",
       "      <td>NaN</td>\n",
       "      <td>1908</td>\n",
       "      <td>April 27</td>\n",
       "      <td>October 31</td>\n",
       "    </tr>\n",
       "    <tr>\n",
       "      <th>4</th>\n",
       "      <td>Stockholm</td>\n",
       "      <td>Sweden</td>\n",
       "      <td>Europe</td>\n",
       "      <td>NaN</td>\n",
       "      <td>NaN</td>\n",
       "      <td>NaN</td>\n",
       "      <td>NaN</td>\n",
       "      <td>1912</td>\n",
       "      <td>May 5</td>\n",
       "      <td>July 22</td>\n",
       "    </tr>\n",
       "  </tbody>\n",
       "</table>\n",
       "</div>"
      ],
      "text/plain": [
       "        City Country      Continent  Summer (Olympiad)  Winter  \\\n",
       "0     Athens  Greece         Europe                NaN     NaN   \n",
       "1      Paris  France         Europe                NaN     NaN   \n",
       "2  St. Louis     USA  North America                NaN     NaN   \n",
       "3  London[c]      UK         Europe                NaN     NaN   \n",
       "4  Stockholm  Sweden         Europe                NaN     NaN   \n",
       "\n",
       "   Summer (Youth)  Winter (Youth)  Year Opening Ceremony Closing Ceremony  \n",
       "0             NaN             NaN  1896          April 6         April 15  \n",
       "1             NaN             NaN  1900           May 14       October 28  \n",
       "2             NaN             NaN  1904           July 1      November 23  \n",
       "3             NaN             NaN  1908         April 27       October 31  \n",
       "4             NaN             NaN  1912            May 5          July 22  "
      ]
     },
     "execution_count": 19,
     "metadata": {},
     "output_type": "execute_result"
    }
   ],
   "source": [
    "df2.head()"
   ]
  },
  {
   "cell_type": "code",
   "execution_count": 20,
   "metadata": {},
   "outputs": [
    {
     "data": {
      "text/html": [
       "<div>\n",
       "<style scoped>\n",
       "    .dataframe tbody tr th:only-of-type {\n",
       "        vertical-align: middle;\n",
       "    }\n",
       "\n",
       "    .dataframe tbody tr th {\n",
       "        vertical-align: top;\n",
       "    }\n",
       "\n",
       "    .dataframe thead th {\n",
       "        text-align: right;\n",
       "    }\n",
       "</style>\n",
       "<table border=\"1\" class=\"dataframe\">\n",
       "  <thead>\n",
       "    <tr style=\"text-align: right;\">\n",
       "      <th></th>\n",
       "      <th>ID</th>\n",
       "      <th>Name</th>\n",
       "      <th>Sex</th>\n",
       "      <th>Age</th>\n",
       "      <th>Height</th>\n",
       "      <th>Weight</th>\n",
       "      <th>Team</th>\n",
       "      <th>NOC</th>\n",
       "      <th>Games</th>\n",
       "      <th>Year</th>\n",
       "      <th>Season</th>\n",
       "      <th>City</th>\n",
       "      <th>Sport</th>\n",
       "      <th>Event</th>\n",
       "      <th>Medal</th>\n",
       "      <th>region</th>\n",
       "      <th>notes</th>\n",
       "    </tr>\n",
       "  </thead>\n",
       "  <tbody>\n",
       "    <tr>\n",
       "      <th>0</th>\n",
       "      <td>1</td>\n",
       "      <td>A Dijiang</td>\n",
       "      <td>M</td>\n",
       "      <td>24.0</td>\n",
       "      <td>180.0</td>\n",
       "      <td>80.0</td>\n",
       "      <td>China</td>\n",
       "      <td>CHN</td>\n",
       "      <td>1992 Summer</td>\n",
       "      <td>1992</td>\n",
       "      <td>Summer</td>\n",
       "      <td>Barcelona</td>\n",
       "      <td>Basketball</td>\n",
       "      <td>Basketball Men's Basketball</td>\n",
       "      <td>NaN</td>\n",
       "      <td>China</td>\n",
       "      <td>NaN</td>\n",
       "    </tr>\n",
       "    <tr>\n",
       "      <th>1</th>\n",
       "      <td>2</td>\n",
       "      <td>A Lamusi</td>\n",
       "      <td>M</td>\n",
       "      <td>23.0</td>\n",
       "      <td>170.0</td>\n",
       "      <td>60.0</td>\n",
       "      <td>China</td>\n",
       "      <td>CHN</td>\n",
       "      <td>2012 Summer</td>\n",
       "      <td>2012</td>\n",
       "      <td>Summer</td>\n",
       "      <td>London</td>\n",
       "      <td>Judo</td>\n",
       "      <td>Judo Men's Extra-Lightweight</td>\n",
       "      <td>NaN</td>\n",
       "      <td>China</td>\n",
       "      <td>NaN</td>\n",
       "    </tr>\n",
       "    <tr>\n",
       "      <th>2</th>\n",
       "      <td>602</td>\n",
       "      <td>Abudoureheman</td>\n",
       "      <td>M</td>\n",
       "      <td>22.0</td>\n",
       "      <td>182.0</td>\n",
       "      <td>75.0</td>\n",
       "      <td>China</td>\n",
       "      <td>CHN</td>\n",
       "      <td>2000 Summer</td>\n",
       "      <td>2000</td>\n",
       "      <td>Summer</td>\n",
       "      <td>Sydney</td>\n",
       "      <td>Boxing</td>\n",
       "      <td>Boxing Men's Middleweight</td>\n",
       "      <td>NaN</td>\n",
       "      <td>China</td>\n",
       "      <td>NaN</td>\n",
       "    </tr>\n",
       "    <tr>\n",
       "      <th>3</th>\n",
       "      <td>1463</td>\n",
       "      <td>Ai Linuer</td>\n",
       "      <td>M</td>\n",
       "      <td>25.0</td>\n",
       "      <td>160.0</td>\n",
       "      <td>62.0</td>\n",
       "      <td>China</td>\n",
       "      <td>CHN</td>\n",
       "      <td>2004 Summer</td>\n",
       "      <td>2004</td>\n",
       "      <td>Summer</td>\n",
       "      <td>Athina</td>\n",
       "      <td>Wrestling</td>\n",
       "      <td>Wrestling Men's Lightweight, Greco-Roman</td>\n",
       "      <td>NaN</td>\n",
       "      <td>China</td>\n",
       "      <td>NaN</td>\n",
       "    </tr>\n",
       "    <tr>\n",
       "      <th>4</th>\n",
       "      <td>1464</td>\n",
       "      <td>Ai Yanhan</td>\n",
       "      <td>F</td>\n",
       "      <td>14.0</td>\n",
       "      <td>168.0</td>\n",
       "      <td>54.0</td>\n",
       "      <td>China</td>\n",
       "      <td>CHN</td>\n",
       "      <td>2016 Summer</td>\n",
       "      <td>2016</td>\n",
       "      <td>Summer</td>\n",
       "      <td>Rio de Janeiro</td>\n",
       "      <td>Swimming</td>\n",
       "      <td>Swimming Women's 200 metres Freestyle</td>\n",
       "      <td>NaN</td>\n",
       "      <td>China</td>\n",
       "      <td>NaN</td>\n",
       "    </tr>\n",
       "  </tbody>\n",
       "</table>\n",
       "</div>"
      ],
      "text/plain": [
       "     ID           Name Sex   Age  Height  Weight   Team  NOC        Games  \\\n",
       "0     1      A Dijiang   M  24.0   180.0    80.0  China  CHN  1992 Summer   \n",
       "1     2       A Lamusi   M  23.0   170.0    60.0  China  CHN  2012 Summer   \n",
       "2   602  Abudoureheman   M  22.0   182.0    75.0  China  CHN  2000 Summer   \n",
       "3  1463      Ai Linuer   M  25.0   160.0    62.0  China  CHN  2004 Summer   \n",
       "4  1464      Ai Yanhan   F  14.0   168.0    54.0  China  CHN  2016 Summer   \n",
       "\n",
       "   Year  Season            City       Sport  \\\n",
       "0  1992  Summer       Barcelona  Basketball   \n",
       "1  2012  Summer          London        Judo   \n",
       "2  2000  Summer          Sydney      Boxing   \n",
       "3  2004  Summer          Athina   Wrestling   \n",
       "4  2016  Summer  Rio de Janeiro    Swimming   \n",
       "\n",
       "                                      Event Medal region notes  \n",
       "0               Basketball Men's Basketball   NaN  China   NaN  \n",
       "1              Judo Men's Extra-Lightweight   NaN  China   NaN  \n",
       "2                 Boxing Men's Middleweight   NaN  China   NaN  \n",
       "3  Wrestling Men's Lightweight, Greco-Roman   NaN  China   NaN  \n",
       "4     Swimming Women's 200 metres Freestyle   NaN  China   NaN  "
      ]
     },
     "execution_count": 20,
     "metadata": {},
     "output_type": "execute_result"
    }
   ],
   "source": [
    "df3.head()"
   ]
  },
  {
   "cell_type": "code",
   "execution_count": 21,
   "metadata": {},
   "outputs": [
    {
     "data": {
      "text/html": [
       "<div>\n",
       "<style scoped>\n",
       "    .dataframe tbody tr th:only-of-type {\n",
       "        vertical-align: middle;\n",
       "    }\n",
       "\n",
       "    .dataframe tbody tr th {\n",
       "        vertical-align: top;\n",
       "    }\n",
       "\n",
       "    .dataframe thead th {\n",
       "        text-align: right;\n",
       "    }\n",
       "</style>\n",
       "<table border=\"1\" class=\"dataframe\">\n",
       "  <thead>\n",
       "    <tr style=\"text-align: right;\">\n",
       "      <th></th>\n",
       "      <th>City</th>\n",
       "      <th>Country</th>\n",
       "      <th>Continent</th>\n",
       "      <th>Summer (Olympiad)</th>\n",
       "      <th>Winter</th>\n",
       "      <th>Summer (Youth)</th>\n",
       "      <th>Winter (Youth)</th>\n",
       "      <th>Year_x</th>\n",
       "      <th>Opening Ceremony</th>\n",
       "      <th>Closing Ceremony</th>\n",
       "      <th>...</th>\n",
       "      <th>Team</th>\n",
       "      <th>NOC</th>\n",
       "      <th>Games</th>\n",
       "      <th>Year_y</th>\n",
       "      <th>Season</th>\n",
       "      <th>Sport</th>\n",
       "      <th>Event</th>\n",
       "      <th>Medal</th>\n",
       "      <th>region</th>\n",
       "      <th>notes</th>\n",
       "    </tr>\n",
       "  </thead>\n",
       "  <tbody>\n",
       "    <tr>\n",
       "      <th>0</th>\n",
       "      <td>Paris</td>\n",
       "      <td>France</td>\n",
       "      <td>Europe</td>\n",
       "      <td>NaN</td>\n",
       "      <td>NaN</td>\n",
       "      <td>NaN</td>\n",
       "      <td>NaN</td>\n",
       "      <td>1900</td>\n",
       "      <td>May 14</td>\n",
       "      <td>October 28</td>\n",
       "      <td>...</td>\n",
       "      <td>Denmark/Sweden</td>\n",
       "      <td>DEN</td>\n",
       "      <td>1900 Summer</td>\n",
       "      <td>1900</td>\n",
       "      <td>Summer</td>\n",
       "      <td>Tug-Of-War</td>\n",
       "      <td>Tug-Of-War Men's Tug-Of-War</td>\n",
       "      <td>Gold</td>\n",
       "      <td>Denmark</td>\n",
       "      <td>NaN</td>\n",
       "    </tr>\n",
       "    <tr>\n",
       "      <th>1</th>\n",
       "      <td>Paris</td>\n",
       "      <td>France</td>\n",
       "      <td>Europe</td>\n",
       "      <td>NaN</td>\n",
       "      <td>NaN</td>\n",
       "      <td>NaN</td>\n",
       "      <td>NaN</td>\n",
       "      <td>1900</td>\n",
       "      <td>May 14</td>\n",
       "      <td>October 28</td>\n",
       "      <td>...</td>\n",
       "      <td>Denmark</td>\n",
       "      <td>DEN</td>\n",
       "      <td>1924 Summer</td>\n",
       "      <td>1924</td>\n",
       "      <td>Summer</td>\n",
       "      <td>Cycling</td>\n",
       "      <td>Cycling Men's Road Race, Individual</td>\n",
       "      <td>NaN</td>\n",
       "      <td>Denmark</td>\n",
       "      <td>NaN</td>\n",
       "    </tr>\n",
       "    <tr>\n",
       "      <th>2</th>\n",
       "      <td>Paris</td>\n",
       "      <td>France</td>\n",
       "      <td>Europe</td>\n",
       "      <td>NaN</td>\n",
       "      <td>NaN</td>\n",
       "      <td>NaN</td>\n",
       "      <td>NaN</td>\n",
       "      <td>1900</td>\n",
       "      <td>May 14</td>\n",
       "      <td>October 28</td>\n",
       "      <td>...</td>\n",
       "      <td>Denmark</td>\n",
       "      <td>DEN</td>\n",
       "      <td>1924 Summer</td>\n",
       "      <td>1924</td>\n",
       "      <td>Summer</td>\n",
       "      <td>Wrestling</td>\n",
       "      <td>Wrestling Men's Bantamweight, Greco-Roman</td>\n",
       "      <td>NaN</td>\n",
       "      <td>Denmark</td>\n",
       "      <td>NaN</td>\n",
       "    </tr>\n",
       "    <tr>\n",
       "      <th>3</th>\n",
       "      <td>Paris</td>\n",
       "      <td>France</td>\n",
       "      <td>Europe</td>\n",
       "      <td>NaN</td>\n",
       "      <td>NaN</td>\n",
       "      <td>NaN</td>\n",
       "      <td>NaN</td>\n",
       "      <td>1900</td>\n",
       "      <td>May 14</td>\n",
       "      <td>October 28</td>\n",
       "      <td>...</td>\n",
       "      <td>Denmark</td>\n",
       "      <td>DEN</td>\n",
       "      <td>1924 Summer</td>\n",
       "      <td>1924</td>\n",
       "      <td>Summer</td>\n",
       "      <td>Art Competitions</td>\n",
       "      <td>Art Competitions Mixed Painting</td>\n",
       "      <td>NaN</td>\n",
       "      <td>Denmark</td>\n",
       "      <td>NaN</td>\n",
       "    </tr>\n",
       "    <tr>\n",
       "      <th>4</th>\n",
       "      <td>Paris</td>\n",
       "      <td>France</td>\n",
       "      <td>Europe</td>\n",
       "      <td>NaN</td>\n",
       "      <td>NaN</td>\n",
       "      <td>NaN</td>\n",
       "      <td>NaN</td>\n",
       "      <td>1900</td>\n",
       "      <td>May 14</td>\n",
       "      <td>October 28</td>\n",
       "      <td>...</td>\n",
       "      <td>Denmark</td>\n",
       "      <td>DEN</td>\n",
       "      <td>1924 Summer</td>\n",
       "      <td>1924</td>\n",
       "      <td>Summer</td>\n",
       "      <td>Wrestling</td>\n",
       "      <td>Wrestling Men's Lightweight, Greco-Roman</td>\n",
       "      <td>NaN</td>\n",
       "      <td>Denmark</td>\n",
       "      <td>NaN</td>\n",
       "    </tr>\n",
       "  </tbody>\n",
       "</table>\n",
       "<p>5 rows × 26 columns</p>\n",
       "</div>"
      ],
      "text/plain": [
       "    City Country Continent  Summer (Olympiad)  Winter  Summer (Youth)  \\\n",
       "0  Paris  France    Europe                NaN     NaN             NaN   \n",
       "1  Paris  France    Europe                NaN     NaN             NaN   \n",
       "2  Paris  France    Europe                NaN     NaN             NaN   \n",
       "3  Paris  France    Europe                NaN     NaN             NaN   \n",
       "4  Paris  France    Europe                NaN     NaN             NaN   \n",
       "\n",
       "   Winter (Youth) Year_x Opening Ceremony Closing Ceremony  ...    \\\n",
       "0             NaN   1900           May 14       October 28  ...     \n",
       "1             NaN   1900           May 14       October 28  ...     \n",
       "2             NaN   1900           May 14       October 28  ...     \n",
       "3             NaN   1900           May 14       October 28  ...     \n",
       "4             NaN   1900           May 14       October 28  ...     \n",
       "\n",
       "             Team  NOC        Games  Year_y  Season             Sport  \\\n",
       "0  Denmark/Sweden  DEN  1900 Summer    1900  Summer        Tug-Of-War   \n",
       "1         Denmark  DEN  1924 Summer    1924  Summer           Cycling   \n",
       "2         Denmark  DEN  1924 Summer    1924  Summer         Wrestling   \n",
       "3         Denmark  DEN  1924 Summer    1924  Summer  Art Competitions   \n",
       "4         Denmark  DEN  1924 Summer    1924  Summer         Wrestling   \n",
       "\n",
       "                                       Event Medal   region  notes  \n",
       "0                Tug-Of-War Men's Tug-Of-War  Gold  Denmark    NaN  \n",
       "1        Cycling Men's Road Race, Individual   NaN  Denmark    NaN  \n",
       "2  Wrestling Men's Bantamweight, Greco-Roman   NaN  Denmark    NaN  \n",
       "3            Art Competitions Mixed Painting   NaN  Denmark    NaN  \n",
       "4   Wrestling Men's Lightweight, Greco-Roman   NaN  Denmark    NaN  \n",
       "\n",
       "[5 rows x 26 columns]"
      ]
     },
     "execution_count": 21,
     "metadata": {},
     "output_type": "execute_result"
    }
   ],
   "source": [
    "dflarge.head()"
   ]
  },
  {
   "cell_type": "markdown",
   "metadata": {
    "colab_type": "text",
    "id": "R9dYAutxubGJ"
   },
   "source": [
    "The first step is to merge the three dataframe as a large one called dflarge. But before that, some value need to be fixed, for example, 'UK' - 'United Kingdom' and 'USA' - 'United States', the name of countries have to be identical in both dataframes merged. After fixing values, I merged all the dataframe as a large one, then grouped it by year, then looped thru the year, for each year, retrieved the host country, counted the number of total gold medals and the numebr of gold medals won by the host country beforing calculating the requested proportion. Then printed the year, host country and proportion out."
   ]
  },
  {
   "cell_type": "markdown",
   "metadata": {
    "colab_type": "text",
    "id": "zKkwrNfbJ9zN"
   },
   "source": [
    "## Please submit your completed notebook in .IPYNB and .HTML formats via Canvas"
   ]
  },
  {
   "cell_type": "code",
   "execution_count": null,
   "metadata": {
    "colab": {},
    "colab_type": "code",
    "id": "LwtJoLsVJ9zO"
   },
   "outputs": [],
   "source": []
  }
 ],
 "metadata": {
  "colab": {
   "collapsed_sections": [],
   "name": "SI 618 FA 2018 Homework 1.ipynb",
   "provenance": [],
   "version": "0.3.2"
  },
  "kernelspec": {
   "display_name": "Python 3",
   "language": "python",
   "name": "python3"
  },
  "language_info": {
   "codemirror_mode": {
    "name": "ipython",
    "version": 3
   },
   "file_extension": ".py",
   "mimetype": "text/x-python",
   "name": "python",
   "nbconvert_exporter": "python",
   "pygments_lexer": "ipython3",
   "version": "3.7.1"
  }
 },
 "nbformat": 4,
 "nbformat_minor": 2
}
